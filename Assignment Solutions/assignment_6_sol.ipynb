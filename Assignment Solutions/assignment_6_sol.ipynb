{
 "cells": [
  {
   "cell_type": "markdown",
   "id": "ce6c69ec-2ebd-4ce8-9429-a2d7eb78989a",
   "metadata": {},
   "source": [
    "# Functions and Lambda Expressions"
   ]
  },
  {
   "cell_type": "markdown",
   "id": "59cc6893-9d4c-403a-abb5-83b352151b1d",
   "metadata": {},
   "source": [
    "## 1. Short Answer Questions "
   ]
  },
  {
   "cell_type": "markdown",
   "id": "af38793d-e3e9-4126-a439-fd4c19862dba",
   "metadata": {},
   "source": [
    "#### Q1. Explain the difference between def statements and lambda expressions. Give an example of each.\n",
    " - def statement is used to create user defined function, given a specific named to it , to call later or anytime in notebook\n",
    " - whereas lambda expressions is define as unamed functions,\n",
    " - def support the multiple lines of code , whereas lambda is expressed in single line only\n",
    " - def can be used with multiple statements , loops ,etc. whereas lambda is limited to single expression\n",
    " - def more readable for complex block of code , lambda is more concise but less readable for complex logic\n",
    " - def is used for general purpose functions , whereas lambda expression is often used as arguments."
   ]
  },
  {
   "cell_type": "code",
   "execution_count": 9,
   "id": "00711198-c4be-43f9-986a-9924e6a5b757",
   "metadata": {},
   "outputs": [
    {
     "name": "stdout",
     "output_type": "stream",
     "text": [
      "27\n"
     ]
    }
   ],
   "source": [
    "def cube(n):\n",
    "    return n**3\n",
    "print(cube(3))"
   ]
  },
  {
   "cell_type": "code",
   "execution_count": 10,
   "id": "386ae953-cea0-40b2-929a-280db9873993",
   "metadata": {},
   "outputs": [
    {
     "name": "stdout",
     "output_type": "stream",
     "text": [
      "27\n"
     ]
    }
   ],
   "source": [
    "cube = lambda x: x**3\n",
    "print(cube(3))"
   ]
  },
  {
   "cell_type": "markdown",
   "id": "74c8988c-b223-48b4-9753-0aab22d701e5",
   "metadata": {},
   "source": [
    "#### Q2. List and explain three benefits of using lambda expressions. \n",
    "- It is concise, can be used as a small function with a single line expression\n",
    "- It is ideal for creating functions that are used only once or temporarily \n",
    "- It works seamlessly with functional tools like map(),reduce(), filter() , sorted(),etc\n",
    "  "
   ]
  },
  {
   "cell_type": "markdown",
   "id": "9b514837-0a75-4efb-bf64-28f0b8460fed",
   "metadata": {},
   "source": [
    "#### Q3. Compare map(), filter(), and reduce() with one-line examples using a lambda function and a list. \n",
    "- map() applies a function to each item in a list and returns a new list.\n",
    "- filter() used to Filters items in a list based on a condition.\n",
    "- reduce() Applies a function cumulatively to reduce the list to a single value.\n",
    "  "
   ]
  },
  {
   "cell_type": "code",
   "execution_count": 23,
   "id": "3870add9-7011-44f7-8b02-d8e7898199a9",
   "metadata": {},
   "outputs": [
    {
     "name": "stdout",
     "output_type": "stream",
     "text": [
      "squaring using map() and lambda exp:[1, 4, 9, 16, 25]\n",
      "odd num using fitler() and lambda exp :[1, 3, 5]\n",
      " sum using reduct() and lambda exp : 15\n"
     ]
    }
   ],
   "source": [
    "# map()\n",
    "num = [1,2,3,4,5]\n",
    "sq = list(map(lambda x:x**2,num))\n",
    "print(f\"squaring using map() and lambda exp:{sq}\")\n",
    "\n",
    "# filter()\n",
    "odd = list(filter(lambda x:x%2!=0,num))\n",
    "print(f\"odd num using fitler() and lambda exp :{odd}\")\n",
    "\n",
    "# reduce() - need to import reduce form functools library or module \n",
    "from functools import reduce\n",
    "summ = reduce(lambda x,y:x+y,num)\n",
    "print(f\" sum using reduct() and lambda exp : {summ}\")"
   ]
  },
  {
   "cell_type": "markdown",
   "id": "b31cae2e-1ba2-4c75-99b9-7dd170276de1",
   "metadata": {},
   "source": [
    "#### Q4. What are function annotations in Python? Write a function that uses them. \n",
    "- Function annotations are optional metadata expressions associated with the parameters and return value of a Python function.\n",
    "- These annotations are evaluated at function definition time and stored in the function's __annotations__ attribute.\n",
    "- Python does not enforce or assign any meaning to these annotations at runtime"
   ]
  },
  {
   "cell_type": "code",
   "execution_count": 29,
   "id": "cc0a3789-676e-4278-b79a-de6c8ad1996d",
   "metadata": {},
   "outputs": [
    {
     "name": "stdout",
     "output_type": "stream",
     "text": [
      "Hello Virat. You are 36 years old.\n",
      "{'name': <class 'str'>, 'age': <class 'int'>, 'return': <class 'str'>}\n"
     ]
    }
   ],
   "source": [
    "#  syntax : def function_name(param1: type1, param2 : type2) -> return_type:\n",
    "#                 ...\n",
    "def greet(name:str , age: int ) -> str:\n",
    "    return f\"Hello {name}. You are {age} years old.\"\n",
    "print(greet('Virat',36))\n",
    "print(greet.__annotations__)"
   ]
  },
  {
   "cell_type": "markdown",
   "id": "17145cf4-aa0b-4b0e-a3d9-ba503c93e993",
   "metadata": {},
   "source": [
    "#### Q5. What is a recursive function? Write a simple recursive function to calculate the factorial of a number.\n",
    "- A recursive function is a function that calls itself in order to solve a smaller instance of the same problem until it reaches a base case (a stopping condition)."
   ]
  },
  {
   "cell_type": "code",
   "execution_count": 51,
   "id": "fbcf0f0f-7ec1-440a-a144-320b961da867",
   "metadata": {},
   "outputs": [
    {
     "name": "stdout",
     "output_type": "stream",
     "text": [
      "120\n"
     ]
    }
   ],
   "source": [
    "def factorial(n):\n",
    "    if n==0:\n",
    "        return 1\n",
    "    else:\n",
    "        return n*(fact(n-1))\n",
    "\n",
    "print(factorial(5))"
   ]
  },
  {
   "cell_type": "markdown",
   "id": "7ef1e084-e76d-4181-aa2b-9014a65905ae",
   "metadata": {},
   "source": [
    "#### Q6. State five design guidelines you should follow while writing functions in Python.\n",
    "- Write small and focused functions that do one task.\n",
    "- Use meaningful and descriptive function and parameter names.\n",
    "- Keep functions short for better readability.\n",
    "- Use default and keyword arguments to enhance flexibility.\n",
    "- Add clear docstrings to document the function’s purpose and usage."
   ]
  },
  {
   "cell_type": "markdown",
   "id": "be9f26c3-e16f-42a9-b0f1-0858d207a86c",
   "metadata": {},
   "source": [
    "#### Q7. Name at least three ways a function can communicate results to a caller and briefly explain each. ei\n",
    "- return statement send a value to the caller. this is most common way to provide results. example return result\n",
    "- Modifying Mutable Arguments: The function changes the content of a mutable argument (like a list or dictionary) passed to it, so the caller sees the updated data.\n",
    "Example: Adding items to a list passed as a parameter\n",
    "- Using Global Variables: The function updates a variable defined outside its scope (a global variable), which the caller can access later.\n",
    "  "
   ]
  },
  {
   "cell_type": "markdown",
   "id": "1a4d4bfe-1880-448f-be8a-a94523cc8542",
   "metadata": {},
   "source": [
    "## 2. Coding Tasks"
   ]
  },
  {
   "cell_type": "markdown",
   "id": "8556a998-8ed5-4702-9ca1-eea31f61683d",
   "metadata": {},
   "source": [
    "## Task 1: \n",
    "#### Write a lambda function that takes two numbers and returns their product. Assign it to a variable and call it with 5 and 7."
   ]
  },
  {
   "cell_type": "code",
   "execution_count": 52,
   "id": "9355e15f-2d7a-4b2c-a833-e1cab329816a",
   "metadata": {},
   "outputs": [
    {
     "name": "stdout",
     "output_type": "stream",
     "text": [
      "35\n"
     ]
    }
   ],
   "source": [
    "product =  lambda x,y:x*y\n",
    "print(product(5,7))"
   ]
  },
  {
   "cell_type": "markdown",
   "id": "524a17a0-b36f-405f-a10d-7ae9c87a7e32",
   "metadata": {},
   "source": [
    "## Task 2: \n",
    "#### Use map() to square every number in a list [1, 2, 3, 4, 5]."
   ]
  },
  {
   "cell_type": "code",
   "execution_count": 54,
   "id": "25489577-3390-4e01-a1e7-9913b8c6cdac",
   "metadata": {},
   "outputs": [
    {
     "name": "stdout",
     "output_type": "stream",
     "text": [
      "[1, 4, 9, 16, 25]\n"
     ]
    }
   ],
   "source": [
    "num = [1, 2, 3, 4, 5]\n",
    "square =  list(map(lambda x:x**2,num))\n",
    "print(square)"
   ]
  },
  {
   "cell_type": "markdown",
   "id": "30db0ff8-0b6c-4668-84e2-78225b2ade87",
   "metadata": {},
   "source": [
    "## Task 3: \n",
    "#### Use filter() to extract only the even numbers from the list [10, 15, 20, 25, 30]"
   ]
  },
  {
   "cell_type": "code",
   "execution_count": 55,
   "id": "c0dafe13-dfe2-492d-af1b-65045b998ef3",
   "metadata": {},
   "outputs": [
    {
     "name": "stdout",
     "output_type": "stream",
     "text": [
      "[10, 20, 30]\n"
     ]
    }
   ],
   "source": [
    "num = [10, 15, 20, 25, 30]\n",
    "even = list(filter(lambda x:x%2==0,num))\n",
    "print(even)\n"
   ]
  },
  {
   "cell_type": "markdown",
   "id": "47ce32fe-7048-4d2c-9821-7ded3c3c8430",
   "metadata": {},
   "source": [
    "## Task 4: \n",
    "#### Use reduce() from functools to calculate the product of numbers in [1, 2, 3, 4, 5]. "
   ]
  },
  {
   "cell_type": "code",
   "execution_count": 57,
   "id": "a9ac2011-2dbc-4dbf-8af9-6968ea9caed4",
   "metadata": {},
   "outputs": [
    {
     "name": "stdout",
     "output_type": "stream",
     "text": [
      "15\n"
     ]
    }
   ],
   "source": [
    "from functools import reduce\n",
    "num = [1, 2, 3, 4, 5]\n",
    "product = reduce(lambda x,y:x+y,num)\n",
    "print(product)"
   ]
  },
  {
   "cell_type": "markdown",
   "id": "ea882808-3146-4e68-aef2-ecb4621ebcc2",
   "metadata": {},
   "source": [
    "## Task 5: \n",
    "#### Create a function with annotations that: \n",
    "-  takes an integer as input, \n",
    "-  returns a string saying whether it is \"Even\" or \"Odd\". "
   ]
  },
  {
   "cell_type": "code",
   "execution_count": 59,
   "id": "869e7485-a52a-49ba-8e10-a891c41423b5",
   "metadata": {},
   "outputs": [
    {
     "name": "stdout",
     "output_type": "stream",
     "text": [
      "3 is Odd\n"
     ]
    }
   ],
   "source": [
    "def odd_even(x:int)->str:\n",
    "    if x%2==0:\n",
    "        print(f\"{x} is Even \")\n",
    "    else:\n",
    "        print(f\"{x} is Odd\")\n",
    "odd_even(3)"
   ]
  },
  {
   "cell_type": "markdown",
   "id": "5c0e8936-ceb4-4825-91d5-206a77dff4c0",
   "metadata": {},
   "source": [
    "## Task 6: \n",
    "#### Write a recursive function to compute the sum of all numbers from 1 to n."
   ]
  },
  {
   "cell_type": "code",
   "execution_count": 60,
   "id": "9d8e40ad-aa5b-4632-87e8-a513904ada73",
   "metadata": {},
   "outputs": [
    {
     "data": {
      "text/plain": [
       "55"
      ]
     },
     "execution_count": 60,
     "metadata": {},
     "output_type": "execute_result"
    }
   ],
   "source": [
    "def summ(n):\n",
    "    if n==0 or n==1:\n",
    "        return n\n",
    "    else:\n",
    "        return n+summ(n-1)\n",
    "summ(10)"
   ]
  },
  {
   "cell_type": "markdown",
   "id": "9e468618-c9ea-4b0f-91a8-429a2794ea38",
   "metadata": {},
   "source": [
    "## Bonus Question \n",
    "#### Write a function that returns different results using print, return, and yield. Call the function and show how each type of output works."
   ]
  },
  {
   "cell_type": "code",
   "execution_count": 82,
   "id": "155a90d1-926d-4c2d-8d2d-feecb9ed58e4",
   "metadata": {},
   "outputs": [],
   "source": [
    "def demo_funct():\n",
    "    print('this is from print function')\n",
    "    yield 'this is from yield function'\n",
    "    return ' this is from return function'\n"
   ]
  },
  {
   "cell_type": "code",
   "execution_count": 87,
   "id": "4486d94e-2bab-490e-877d-96ea17392b9d",
   "metadata": {},
   "outputs": [
    {
     "name": "stdout",
     "output_type": "stream",
     "text": [
      "this is from print function\n",
      "this is from yield function\n"
     ]
    }
   ],
   "source": [
    "gen = demo_funct()\n",
    "print(next(gen)) # this executes print , then yields\n",
    "try:\n",
    "    print(next(gen))  # Triggers return, ends generator\n",
    "except StopIteration as e:\n",
    "    print(\"Return value:\", e.value)"
   ]
  },
  {
   "cell_type": "markdown",
   "id": "f4bda2d4-4013-4c09-ad4e-d04c54850b38",
   "metadata": {},
   "source": [
    "- print(...) just outputs immediately during function execution.\n",
    "- yield pauses and returns a value from a generator, resumes next time next() is called\n",
    "- return ends the generator and optionally sends a value via StopIteration."
   ]
  }
 ],
 "metadata": {
  "kernelspec": {
   "display_name": "Python 3 (ipykernel)",
   "language": "python",
   "name": "python3"
  },
  "language_info": {
   "codemirror_mode": {
    "name": "ipython",
    "version": 3
   },
   "file_extension": ".py",
   "mimetype": "text/x-python",
   "name": "python",
   "nbconvert_exporter": "python",
   "pygments_lexer": "ipython3",
   "version": "3.13.2"
  }
 },
 "nbformat": 4,
 "nbformat_minor": 5
}

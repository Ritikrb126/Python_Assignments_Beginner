{
 "cells": [
  {
   "cell_type": "markdown",
   "id": "17bb7229-6de9-4f30-a3cb-8cd21fbbdfca",
   "metadata": {},
   "source": [
    "# Python Control Flow, Comprehensions, and Generators"
   ]
  },
  {
   "cell_type": "markdown",
   "id": "59a21956-03fa-4b82-8104-dde102a341e5",
   "metadata": {},
   "source": [
    "## 1. Conditional Logic\n",
    "####  Write a function that checks a number against 7 and prints:\n",
    "- 'too low' if less than 7,\n",
    "- 'just right' if equal to 7,\n",
    "- 'too high' if greater than 7.\n",
    "#### Call the function with the values 7, 5, and 15."
   ]
  },
  {
   "cell_type": "code",
   "execution_count": 2,
   "id": "22febf46-bc83-4776-bf89-b4435970ae09",
   "metadata": {},
   "outputs": [
    {
     "name": "stdin",
     "output_type": "stream",
     "text": [
      "enter any number 5\n"
     ]
    },
    {
     "name": "stdout",
     "output_type": "stream",
     "text": [
      "too low\n"
     ]
    }
   ],
   "source": [
    "def check_agaist_7(n):\n",
    "    if n<7:\n",
    "        print('too low')\n",
    "    elif n>7:\n",
    "        print('too high')\n",
    "    else:\n",
    "        print('just right')\n",
    "num = int(input('enter any number'))\n",
    "check_agaist_7(num)"
   ]
  },
  {
   "cell_type": "markdown",
   "id": "8da64f2c-77a8-45d6-8aba-4df9974aac33",
   "metadata": {},
   "source": [
    "## 3. Loop Through a List\n",
    "#### Use a for loop to print each element in this list:\n",
    "#### [3, 2, 1, 0]"
   ]
  },
  {
   "cell_type": "code",
   "execution_count": 5,
   "id": "5b616608-1d50-4092-a382-e5c264fc9e33",
   "metadata": {},
   "outputs": [
    {
     "name": "stdout",
     "output_type": "stream",
     "text": [
      "3\n",
      "2\n",
      "1\n",
      "0\n"
     ]
    }
   ],
   "source": [
    "lst = [3, 2, 1, 0]\n",
    "for i in lst:\n",
    "    print(i)"
   ]
  },
  {
   "cell_type": "markdown",
   "id": "258f67d1-2a59-4fec-acf7-9cf723689554",
   "metadata": {},
   "source": [
    "## 4. List Comprehension\n",
    "#### Use a list comprehension to generate a list of even numbers from 0 to 10."
   ]
  },
  {
   "cell_type": "code",
   "execution_count": 7,
   "id": "a9f3eb19-80b8-4a39-9748-d21fb86f55cd",
   "metadata": {},
   "outputs": [
    {
     "name": "stdout",
     "output_type": "stream",
     "text": [
      "[0, 1, 2, 3, 4, 5, 6, 7, 8, 9, 10]\n"
     ]
    }
   ],
   "source": [
    "lst = [i for i in range(11)]\n",
    "print(lst)"
   ]
  },
  {
   "cell_type": "markdown",
   "id": "4a7f3c71-bff7-4c6b-8f31-0c006f38f0b3",
   "metadata": {},
   "source": [
    "## 5. Dictionary Comprehension \n",
    "#### Use a dictionary comprehension (or another method) to create a dictionary called squares where: \n",
    "- The keys are numbers from 0 to 9 \n",
    "- The values are the squares of the keys"
   ]
  },
  {
   "cell_type": "code",
   "execution_count": 20,
   "id": "d408aa2e-7bc6-4b68-9007-568c0a6272ce",
   "metadata": {},
   "outputs": [
    {
     "name": "stdout",
     "output_type": "stream",
     "text": [
      "{0: 0, 1: 1, 2: 4, 3: 9, 4: 16, 5: 25, 6: 36, 7: 49, 8: 64, 9: 81}\n"
     ]
    }
   ],
   "source": [
    "square = {i:i**2 for i in range(10)}\n",
    "print(square)"
   ]
  },
  {
   "cell_type": "markdown",
   "id": "b3824038-6beb-43e3-8c2d-8f9c15ee2cf1",
   "metadata": {},
   "source": [
    "## 6. Set Comprehension \n",
    "#### Create a set odd that contains all the odd numbers from 0 to 9 using a set comprehension"
   ]
  },
  {
   "cell_type": "code",
   "execution_count": 23,
   "id": "08050b43-2442-4104-a8d9-ccd7fc41f6df",
   "metadata": {},
   "outputs": [
    {
     "name": "stdout",
     "output_type": "stream",
     "text": [
      "{1, 3, 5, 7, 9}\n"
     ]
    }
   ],
   "source": [
    "set1 ={i for i in range(10) if i%2!=0}\n",
    "print(set1)"
   ]
  },
  {
   "cell_type": "markdown",
   "id": "752e44e0-146b-4e07-8a80-5692993e26cf",
   "metadata": {},
   "source": [
    "## 7. Generator Expression \n",
    "#### Use a generator expression to create strings like 'Got_0', 'Got_1', ..., 'Got_9'. \n",
    "#### Iterate over the generator using a for loop and print the results in one line separated by spaces."
   ]
  },
  {
   "cell_type": "code",
   "execution_count": 43,
   "id": "116d36da-06df-4dca-8c07-c0fa6c27bf05",
   "metadata": {},
   "outputs": [
    {
     "name": "stdout",
     "output_type": "stream",
     "text": [
      "Got_0\n",
      "Got_1\n",
      "Got_2\n",
      "Got_3\n",
      "Got_4\n",
      "Got_5\n",
      "Got_6\n",
      "Got_7\n",
      "Got_8\n",
      "Got_9\n"
     ]
    }
   ],
   "source": [
    "def genstr():\n",
    "    i=0\n",
    "    while True:\n",
    "        string = \"_\".join(['Got',str(i)])\n",
    "        yield string\n",
    "        i+=1\n",
    "result = genstr()\n",
    "for i in range(10):\n",
    "    print(next(result))"
   ]
  },
  {
   "cell_type": "markdown",
   "id": "5a50efe1-71b5-4268-828e-fe4f83103bf8",
   "metadata": {},
   "source": [
    "## 8. Define a Simple Function \n",
    "#### Define a function good() that returns this list: \n",
    "#### ['Harry', 'Ron', 'Hermione']"
   ]
  },
  {
   "cell_type": "code",
   "execution_count": 44,
   "id": "9c49c7e1-9386-40af-80b2-6dd3387971fe",
   "metadata": {},
   "outputs": [
    {
     "name": "stdout",
     "output_type": "stream",
     "text": [
      "['Harry', 'Ron', 'Hermione']\n"
     ]
    }
   ],
   "source": [
    "def good():\n",
    "    return ['Harry', 'Ron', 'Hermione']\n",
    "print(good())"
   ]
  },
  {
   "cell_type": "markdown",
   "id": "ee30df3e-b185-4424-a799-eed9818bd7da",
   "metadata": {},
   "source": [
    "## 9. Generator Function and Indexing \n",
    "#### Define a generator function get_odds() that yields odd numbers from 0 to 9. \n",
    "#### Use a loop or generator handling to find and print the third odd number generated. "
   ]
  },
  {
   "cell_type": "code",
   "execution_count": 46,
   "id": "1c2a6e78-a5d9-42f6-8959-2534ac436105",
   "metadata": {},
   "outputs": [
    {
     "name": "stdout",
     "output_type": "stream",
     "text": [
      "1\n",
      "3\n",
      "5\n",
      "7\n",
      "9\n",
      "11\n",
      "13\n",
      "15\n",
      "17\n",
      "19\n"
     ]
    }
   ],
   "source": [
    "def get_odds():\n",
    "    i=0\n",
    "    while True:\n",
    "        if i %2!=0:\n",
    "            yield i\n",
    "        i+=1\n",
    "result1 = get_odds()\n",
    "for i in range(10):\n",
    "    print(next(result1))             "
   ]
  },
  {
   "cell_type": "markdown",
   "id": "a9aeb02e-8d9c-4daa-a05b-b5ff31c72ced",
   "metadata": {},
   "source": [
    "## 10. Use zip() to Build a Dictionary \n",
    "#### Given: \n",
    "#### titles = ['Creature of Habit', 'Crewel Fate'] \n",
    "#### plots = ['A nun turns into a monster', 'A haunted yarn shop'] \n",
    "#### Use zip() to build and print a dictionary called movies that pairs each title with its plot."
   ]
  },
  {
   "cell_type": "code",
   "execution_count": 49,
   "id": "28882138-46bb-4d51-bc24-ce2b16cd1c54",
   "metadata": {},
   "outputs": [
    {
     "name": "stdout",
     "output_type": "stream",
     "text": [
      "{'Creature of Habit': 'A nun turns into a monster', 'Crewel Fate': 'A haunted yarn shop'}\n"
     ]
    }
   ],
   "source": [
    "titles = ['Creature of Habit', 'Crewel Fate']\n",
    "plots = ['A nun turns into a monster', 'A haunted yarn shop']\n",
    "movie = {}\n",
    "for title,plot in zip(titles,plots):\n",
    "    movie[title]=plot\n",
    "print(movie)\n",
    "    "
   ]
  }
 ],
 "metadata": {
  "kernelspec": {
   "display_name": "Python 3 (ipykernel)",
   "language": "python",
   "name": "python3"
  },
  "language_info": {
   "codemirror_mode": {
    "name": "ipython",
    "version": 3
   },
   "file_extension": ".py",
   "mimetype": "text/x-python",
   "name": "python",
   "nbconvert_exporter": "python",
   "pygments_lexer": "ipython3",
   "version": "3.13.2"
  }
 },
 "nbformat": 4,
 "nbformat_minor": 5
}

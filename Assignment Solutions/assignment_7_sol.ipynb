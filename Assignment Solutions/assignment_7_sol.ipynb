{
 "cells": [
  {
   "cell_type": "markdown",
   "id": "6aa91bab-56fa-4fa1-b770-f0e23e706ac1",
   "metadata": {},
   "source": [
    "# Function Parameters and Argument Behavior"
   ]
  },
  {
   "cell_type": "markdown",
   "id": "adf5a867-01c9-4401-ad64-8a400c19482a",
   "metadata": {},
   "source": [
    "<!-- 1. Default Arguments \n",
    "Q1. What will be the output of the following function call, and why? \n",
    "def func(a, b=6, c=8): \n",
    "print(a, b, c) \n",
    "func(1, 2)  -->"
   ]
  },
  {
   "cell_type": "markdown",
   "id": "351d838c-244c-4bc1-9bc5-a5ed683db8b8",
   "metadata": {},
   "source": [
    "## 1. Default Arguments \n",
    "#### Q1. What will be the output of the following function call, and why? \n",
    "#### def func(a, b=6, c=8): \n",
    "#### print(a, b, c) \n",
    "#### func(1, 2) "
   ]
  },
  {
   "cell_type": "code",
   "execution_count": 9,
   "id": "815c46e1-fdeb-4855-b7cf-c3412c512ec9",
   "metadata": {},
   "outputs": [
    {
     "name": "stdout",
     "output_type": "stream",
     "text": [
      "1 2 8\n"
     ]
    }
   ],
   "source": [
    "def func(a, b=6, c=8):\n",
    "    print(a, b, c)\n",
    "func(1, 2)"
   ]
  },
  {
   "cell_type": "code",
   "execution_count": 2,
   "id": "39a3a017-9d11-4de1-a38b-d786bd7d8b11",
   "metadata": {},
   "outputs": [],
   "source": [
    "#  output :- 1,2,8 \n",
    "#  In user- defined function , a default value for b and c is given \n",
    "# while calling a function , a positional argument is given, means first placed value will be assigned as a=1, \n",
    "# similary for second placed value will be assigned as b=2 \n",
    "#  but the function expecting 3 arguments while calling  , so default value of 8 will be used  , ie c = 8"
   ]
  },
  {
   "cell_type": "markdown",
   "id": "7330c0ee-a94b-4c34-aa37-323303bd5d06",
   "metadata": {},
   "source": [
    "## 2. Keyword Arguments with Defaults \n",
    "#### Q2. Predict the output and explain: \n",
    "#### def func(a, b, c=5): \n",
    "#### print(a, b, c) \n",
    "#### func(1, c=3, b=2) "
   ]
  },
  {
   "cell_type": "code",
   "execution_count": 8,
   "id": "a37da8b0-3ce5-4ad8-97b1-0a7c2be4a4cc",
   "metadata": {},
   "outputs": [
    {
     "name": "stdout",
     "output_type": "stream",
     "text": [
      "1 2 3\n"
     ]
    }
   ],
   "source": [
    "def func(a, b, c=5):\n",
    "    print(a, b, c)\n",
    "func(1, c=3, b=2)"
   ]
  },
  {
   "cell_type": "code",
   "execution_count": 5,
   "id": "e7ea8ef5-93a8-4480-9414-3b3c15918cf1",
   "metadata": {},
   "outputs": [],
   "source": [
    "# output :- 1,2,3\n",
    "# the first placed value is assigned to a ie a = 1\n",
    "#  but later instead of positional argument ,keyword arguments is implicated, \n",
    "# like a value is assigned directly to its paramter  as defined in the function\n",
    "#  so value of b and c is assigned with its paraemeter , in these case the order of passing arguments while calling function doesn't matter "
   ]
  },
  {
   "cell_type": "markdown",
   "id": "37dd4f19-a49d-4ae7-87f4-ca29d73ab332",
   "metadata": {},
   "source": [
    "## 3. Positional Variable-Length Arguments \n",
    "#### Q3. Explain the behavior and output: \n",
    "#### def func(a, *pargs): \n",
    "#### print(a, pargs) \n",
    "#### func(1, 2, 3)"
   ]
  },
  {
   "cell_type": "code",
   "execution_count": 11,
   "id": "031c8b27-1a7a-4930-87ff-c5188cbcc164",
   "metadata": {},
   "outputs": [
    {
     "name": "stdout",
     "output_type": "stream",
     "text": [
      "1 (2, 3)\n"
     ]
    }
   ],
   "source": [
    "def func(a, *pargs):\n",
    "    print(a, pargs)\n",
    "func(1, 2, 3)"
   ]
  },
  {
   "cell_type": "code",
   "execution_count": null,
   "id": "ef232af7-2456-4f07-b67f-9dc27c53adfc",
   "metadata": {},
   "outputs": [],
   "source": [
    "#  output :- 1,(2,3)\n",
    "# a is a normal positional argument.\n",
    "# *pargs captures any extra positional arguments into a tuple.\n",
    "# So when you call func(1, 2, 3):a = 1\n",
    "# pargs = (2, 3) → a tuple of the remaining positional arguments."
   ]
  },
  {
   "cell_type": "markdown",
   "id": "151db498-d275-4520-9c34-db2e0de8b70c",
   "metadata": {},
   "source": [
    "## 4. Keyword Variable-Length Arguments \n",
    "#### Q4. What will this code print, and why? \n",
    "#### def func(a, **kargs): \n",
    "#### print(a, kargs) \n",
    "##### func(a=1, c=3, b=2) "
   ]
  },
  {
   "cell_type": "code",
   "execution_count": 13,
   "id": "dc58d774-f1fc-403d-b773-3793ebe18507",
   "metadata": {},
   "outputs": [
    {
     "name": "stdout",
     "output_type": "stream",
     "text": [
      "1 {'c': 3, 'b': 2}\n"
     ]
    }
   ],
   "source": [
    "def func(a, **kargs):\n",
    "    print(a, kargs)\n",
    "func(a=1, c=3, b=2)"
   ]
  },
  {
   "cell_type": "code",
   "execution_count": null,
   "id": "dba2972f-fe0b-4614-a58d-422c26a76d76",
   "metadata": {},
   "outputs": [],
   "source": [
    "#  output :- 1,{'c':3,'b':2)\n",
    "# a=1 → gets assigned to the explicit parameter a.\n",
    "# The rest: c=3 and b=2 → are extra keyword arguments, so they go into the dictionary kargs."
   ]
  },
  {
   "cell_type": "markdown",
   "id": "b064fb35-f6ed-420d-b42b-76eefcba965d",
   "metadata": {},
   "source": [
    "## 5. Mixing Positional and Unpacked Tuple Arguments \n",
    "#### Q5. Explain the result of this call: \n",
    "#### def func(a, b, c=8, d=5): \n",
    "#### print(a, b, c, d) \n",
    "#### func(1, *(5, 6))"
   ]
  },
  {
   "cell_type": "code",
   "execution_count": 14,
   "id": "4c0c1ea7-bbdb-472c-b0dd-05865a9c6439",
   "metadata": {},
   "outputs": [
    {
     "name": "stdout",
     "output_type": "stream",
     "text": [
      "1 5 6 5\n"
     ]
    }
   ],
   "source": [
    "def func(a, b, c=8, d=5):\n",
    "    print(a, b, c, d)\n",
    "func(1, *(5, 6))"
   ]
  },
  {
   "cell_type": "code",
   "execution_count": 15,
   "id": "d6f05ba6-5ced-44e8-9401-83035d4d6f05",
   "metadata": {},
   "outputs": [],
   "source": [
    "# output :- 1,5,6,5\n",
    "#  in function a,b a position arg is passed , for c and d a keyword arg is passed\n",
    "#  but while calling function *(5,6) unpacks the tuple into 5,6 so funct(1,*(5,6) becomes funct(1,5,6)\n",
    "#  as positional arg a = 1 ,b = 5, c = 6 , but the value of d is not passed , so the default value is used ie d = 5"
   ]
  },
  {
   "cell_type": "markdown",
   "id": "4bf98b51-d174-406b-a4ad-d2ac23402e9b",
   "metadata": {},
   "source": [
    "## 6. Mutable vs Immutable Behavior \n",
    "#### Q6. Predict the output of the variables l, m, and n after this code runs: \n",
    "#### def func(a, b, c): \n",
    "#### a = 2 \n",
    "#### b[0] = 'x' \n",
    "#### c['a'] = 'y' \n",
    "#### l = 1 \n",
    "#### m = [1] \n",
    "#### n = {'a': 0} \n",
    "#### func(l, m, n) \n",
    "#### print(l, m, n) "
   ]
  },
  {
   "cell_type": "code",
   "execution_count": 19,
   "id": "06315936-3c79-4973-9077-18460458bd62",
   "metadata": {},
   "outputs": [
    {
     "name": "stdout",
     "output_type": "stream",
     "text": [
      "e ['x'] {'a': 'y'}\n"
     ]
    }
   ],
   "source": [
    "def func(a, b, c):\n",
    "    a = 2\n",
    "    b[0] = 'x'\n",
    "    c['a'] = 'y'\n",
    "l = 1\n",
    "m = [1]\n",
    "n = {'a': 0}\n",
    "func(l, m, n)\n",
    "print(l, m, n)"
   ]
  },
  {
   "cell_type": "code",
   "execution_count": null,
   "id": "1858f729-3856-4481-8041-ab745cb2b79c",
   "metadata": {},
   "outputs": [],
   "source": [
    "#  output :- 1 , ['x']'{'a':'y'}\n",
    "#  as 'a' var defined in user defined is local , \n",
    "# l is unchanged because integers are immutable, and a = 2 only reassigns locally.\n",
    "# does not affect outside var ie a = 2 is only refered inside the function , outside the function a = 1\n",
    "#  b[0] = 'x' ,as the list is mutable  it reassigned the value of m at 0th index with 'x'\n",
    "# m changes to ['x'] because lists are mutable, and b[0] = 'x' modifies it in place.\n",
    "#  similarly for c['a'] = 'y' ,as dict is mutable  it reassigned the value of 'a' key with 'y' in the place of 0.\n",
    "# n changes to {'a': 'y'} because dictionaries are mutable, and c['a'] = 'y' updates the original dictionary."
   ]
  },
  {
   "cell_type": "markdown",
   "id": "d30fe7b1-52f7-4f95-87f4-8779e69d44b1",
   "metadata": {},
   "source": [
    "## Bonus Challenge \n",
    "#### Write a function that accepts: \n",
    "- one required argument, \n",
    "- a variable number of positional arguments, \n",
    "- a variable number of keyword arguments, \n",
    "#### Then print all three components. Call it with: \n",
    "#### my_func(10, 20, 30, x=5, y=15) "
   ]
  },
  {
   "cell_type": "code",
   "execution_count": 24,
   "id": "71f2f66b-400e-487a-ae59-8b037dfefadb",
   "metadata": {},
   "outputs": [
    {
     "name": "stdout",
     "output_type": "stream",
     "text": [
      "10 (20, 30) {'x': 5, 'y': 15}\n"
     ]
    }
   ],
   "source": [
    "def my_func(a,*parg,**karg):\n",
    "    print(a,parg,karg)\n",
    "my_func(10, 20, 30, x=5, y=15)"
   ]
  }
 ],
 "metadata": {
  "kernelspec": {
   "display_name": "Python 3 (ipykernel)",
   "language": "python",
   "name": "python3"
  },
  "language_info": {
   "codemirror_mode": {
    "name": "ipython",
    "version": 3
   },
   "file_extension": ".py",
   "mimetype": "text/x-python",
   "name": "python",
   "nbconvert_exporter": "python",
   "pygments_lexer": "ipython3",
   "version": "3.13.2"
  }
 },
 "nbformat": 4,
 "nbformat_minor": 5
}

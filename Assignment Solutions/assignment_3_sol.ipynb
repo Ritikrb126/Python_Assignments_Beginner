{
 "cells": [
  {
   "cell_type": "markdown",
   "id": "e5575ac5-0bef-4853-a979-a2d200a5dfed",
   "metadata": {},
   "source": [
    "## Question 1\n",
    "#### Create a variable x with the value 15 . Perform floored division by 4 andprint the result. What is the difference between floored division and normaldivision?"
   ]
  },
  {
   "cell_type": "code",
   "execution_count": 4,
   "id": "67e5ee2c-64e6-4868-b886-8a2d1c9942cf",
   "metadata": {},
   "outputs": [
    {
     "name": "stdout",
     "output_type": "stream",
     "text": [
      "result : 3\n"
     ]
    }
   ],
   "source": [
    "x = 15\n",
    "print(f\"result : { x//4}\") \n",
    "#  floor division gives the integer (floor value) of the float number "
   ]
  },
  {
   "cell_type": "markdown",
   "id": "8b5f0afe-ae7c-446b-b5b0-192ead71a8f4",
   "metadata": {},
   "source": [
    "## Question 2 \n",
    "#### Write a program to calculate 8 ** 2 and 16 ** 0.5 . Print both results and describe what each represents."
   ]
  },
  {
   "cell_type": "code",
   "execution_count": 5,
   "id": "1cb3a5a3-2355-4579-a301-563412b83c90",
   "metadata": {},
   "outputs": [
    {
     "name": "stdout",
     "output_type": "stream",
     "text": [
      "64\n",
      "4.0\n"
     ]
    }
   ],
   "source": [
    "print(8**2) # gives the square of a num\n",
    "print(16**0.5) # gives the square root of a num "
   ]
  },
  {
   "cell_type": "markdown",
   "id": "aa59ce0a-bb1f-41ba-bcba-eecea6c7c89d",
   "metadata": {},
   "source": [
    "## Question 3:\n",
    "#### Use arithmetic operators to solve the following expression: 20 - 5 * 3 + 8 /4 . Use parentheses to make sure the addition happens beforemultiplication. Print the output."
   ]
  },
  {
   "cell_type": "code",
   "execution_count": 6,
   "id": "75d9a6b6-f7ce-4dbe-8563-65d2a9f0e45d",
   "metadata": {},
   "outputs": [
    {
     "name": "stdout",
     "output_type": "stream",
     "text": [
      "6.25\n"
     ]
    }
   ],
   "source": [
    "print(20-5*(3+8)/4)"
   ]
  },
  {
   "cell_type": "markdown",
   "id": "e953e19d-bab0-4d3b-b20a-81451c1c789f",
   "metadata": {},
   "source": [
    "## Question 4:\n",
    "#### Assign the value 7 to a variable num . Convert it to a float and print the result. What is the difference between 7 and 7.0 ?"
   ]
  },
  {
   "cell_type": "code",
   "execution_count": 8,
   "id": "68276689-a1b8-4f8b-967b-3b49fb3ed54c",
   "metadata": {},
   "outputs": [
    {
     "name": "stdout",
     "output_type": "stream",
     "text": [
      "7.0\n"
     ]
    }
   ],
   "source": [
    "num = 7  \n",
    "print(float(num)) # includes the demical points"
   ]
  },
  {
   "cell_type": "markdown",
   "id": "3d57555a-ff6c-4b3a-b940-ca6d0d4d8b5e",
   "metadata": {},
   "source": [
    "## Question 5:\n",
    "#### Use a comparison operator to check if 100 is greater than 50 . Print the result and indicate what type of value this is."
   ]
  },
  {
   "cell_type": "code",
   "execution_count": 13,
   "id": "af48b409-36ed-42d8-b8ca-8bf4c8488b74",
   "metadata": {},
   "outputs": [
    {
     "name": "stdout",
     "output_type": "stream",
     "text": [
      "True\n",
      "<class 'bool'>\n"
     ]
    }
   ],
   "source": [
    "result = 100>50\n",
    "print(result)\n",
    "print(type(result))"
   ]
  },
  {
   "cell_type": "markdown",
   "id": "40e29939-a7c9-4627-99d9-481aaa12ae01",
   "metadata": {},
   "source": [
    "## Question 6:\n",
    "#### Assign True to a variable is_sunny and False to is_weekend . Use logical operators to check if it is sunny and the weekend ( is_sunny and is_weekend ).Print the result."
   ]
  },
  {
   "cell_type": "code",
   "execution_count": 14,
   "id": "26769625-f474-4a4b-8260-c5954710baa8",
   "metadata": {},
   "outputs": [
    {
     "name": "stdout",
     "output_type": "stream",
     "text": [
      "False\n"
     ]
    }
   ],
   "source": [
    "is_sunny = True \n",
    "is_weekend = False\n",
    "print(is_sunny and is_weekend)"
   ]
  },
  {
   "cell_type": "markdown",
   "id": "a2f578c7-f341-4d1c-ae03-a308dab4d8da",
   "metadata": {},
   "source": [
    "## Question 7:\n",
    "#### Create a variable password and set it to \"my_password123\" . Ask the user to input a password and print True if the input matches the value of password , otherwise print False ."
   ]
  },
  {
   "cell_type": "code",
   "execution_count": 16,
   "id": "45e88599-01d4-4c9e-8731-bb1070a01451",
   "metadata": {},
   "outputs": [
    {
     "name": "stdin",
     "output_type": "stream",
     "text": [
      "enter the password my_password123\n"
     ]
    },
    {
     "name": "stdout",
     "output_type": "stream",
     "text": [
      "True\n"
     ]
    }
   ],
   "source": [
    "password = \"my_password123\"\n",
    "user_input = input('enter the password')\n",
    "print(password == user_input)\n",
    "    "
   ]
  },
  {
   "cell_type": "markdown",
   "id": "6557c378-79c9-4d24-a1e8-65d31de10511",
   "metadata": {},
   "source": [
    "## Question 8\n",
    "#### Assign the value 50 to a variable marks . Increment the value of marks by 5 using the += operator, then print the new value."
   ]
  },
  {
   "cell_type": "code",
   "execution_count": 19,
   "id": "4f27928c-73e3-4974-bd64-18e58227b92d",
   "metadata": {},
   "outputs": [
    {
     "name": "stdout",
     "output_type": "stream",
     "text": [
      "55\n"
     ]
    }
   ],
   "source": [
    "marks = 50 \n",
    "marks+=5\n",
    "print(marks)"
   ]
  },
  {
   "cell_type": "markdown",
   "id": "a7c1f3e9-e946-4e26-9852-1dc1a4db4dc7",
   "metadata": {},
   "source": [
    "# Question 9\n",
    "#### Write a program to check if the value of a = 0 and b = 10 satisfies a or b .Print the output and explain why it gives that result."
   ]
  },
  {
   "cell_type": "code",
   "execution_count": 20,
   "id": "3b44eaf9-923c-4487-8eaa-9854a78c7eeb",
   "metadata": {},
   "outputs": [
    {
     "name": "stdout",
     "output_type": "stream",
     "text": [
      "10\n"
     ]
    }
   ],
   "source": [
    "a = 0\n",
    "b = 10 \n",
    "print(a or b)"
   ]
  },
  {
   "cell_type": "markdown",
   "id": "2a5cf7b2-69a8-4eee-86da-72ae2025bc73",
   "metadata": {},
   "source": [
    "## Question 10\n",
    "#### Use not to negate the value of False and print the result. Explain what the not operator does in Python."
   ]
  },
  {
   "cell_type": "code",
   "execution_count": 23,
   "id": "7766c6ab-bf0d-406e-8ffd-fe73064ad0ca",
   "metadata": {},
   "outputs": [
    {
     "name": "stdout",
     "output_type": "stream",
     "text": [
      "True\n",
      "False\n"
     ]
    }
   ],
   "source": [
    "print(not False)\n",
    "print(not True) \n",
    "# it reverse the condition/flips the boolen value "
   ]
  }
 ],
 "metadata": {
  "kernelspec": {
   "display_name": "Python 3 (ipykernel)",
   "language": "python",
   "name": "python3"
  },
  "language_info": {
   "codemirror_mode": {
    "name": "ipython",
    "version": 3
   },
   "file_extension": ".py",
   "mimetype": "text/x-python",
   "name": "python",
   "nbconvert_exporter": "python",
   "pygments_lexer": "ipython3",
   "version": "3.13.2"
  }
 },
 "nbformat": 4,
 "nbformat_minor": 5
}

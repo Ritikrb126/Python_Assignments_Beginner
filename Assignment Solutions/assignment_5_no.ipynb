{
 "cells": [
  {
   "cell_type": "markdown",
   "id": "0b5936cb-3db1-4a36-9b0b-3d8d9de2c5d3",
   "metadata": {},
   "source": [
    "# Easy Level"
   ]
  },
  {
   "cell_type": "markdown",
   "id": "8cc34c3a-6152-4164-a9bf-170b247d3149",
   "metadata": {},
   "source": [
    "## Question 1 \n",
    "#### Odd or Even: Write a program that takes an integer input from the user and prints whether the number is odd or even."
   ]
  },
  {
   "cell_type": "code",
   "execution_count": 1,
   "id": "11c443ce-a65c-4372-a4be-946d45f6517a",
   "metadata": {},
   "outputs": [
    {
     "name": "stdin",
     "output_type": "stream",
     "text": [
      " 5\n"
     ]
    },
    {
     "name": "stdout",
     "output_type": "stream",
     "text": [
      "Odd\n"
     ]
    }
   ],
   "source": [
    "def check_odd_even(n):\n",
    "    return 'Even' if n%2==0 else 'Odd'\n",
    "num = int(input())\n",
    "print(check_odd_even(num))"
   ]
  },
  {
   "cell_type": "markdown",
   "id": "3a7e6561-48bb-4ded-9c46-d01f33284813",
   "metadata": {},
   "source": [
    "## Question 2 \n",
    "#### Positive, Negative, or Zero: Create a program that checks if a number entered by the user is positive,negative, or zero and prints the result."
   ]
  },
  {
   "cell_type": "code",
   "execution_count": 2,
   "id": "8d29dcba-ce95-4564-a364-94a85684c181",
   "metadata": {},
   "outputs": [
    {
     "name": "stdin",
     "output_type": "stream",
     "text": [
      " 6\n"
     ]
    },
    {
     "data": {
      "text/plain": [
       "'positive'"
      ]
     },
     "execution_count": 2,
     "metadata": {},
     "output_type": "execute_result"
    }
   ],
   "source": [
    "def check(n):\n",
    "    return 'positive' if n>0 else 'negative' if n<0 else 'zero'\n",
    "num = int(input())\n",
    "check(num)"
   ]
  },
  {
   "cell_type": "markdown",
   "id": "f62a8af2-3f37-4fa2-ab04-97f2c2c51f4b",
   "metadata": {},
   "source": [
    "## Question 3\n",
    "#### Grade Evaluation: Write a program that takes a student's score (0-100) and prints the corresponding letter grade (A, B, C, D, F)."
   ]
  },
  {
   "cell_type": "code",
   "execution_count": 4,
   "id": "4dd68c52-44b1-4f23-bdca-4577118e9e1a",
   "metadata": {},
   "outputs": [
    {
     "name": "stdin",
     "output_type": "stream",
     "text": [
      " 5\n"
     ]
    },
    {
     "data": {
      "text/plain": [
       "'positive'"
      ]
     },
     "execution_count": 4,
     "metadata": {},
     "output_type": "execute_result"
    }
   ],
   "source": [
    "def check(n):\n",
    "    return 'positive' if n>0 else 'negative' if n<0 else 'zero'\n",
    "num = int(input())\n",
    "check(num)"
   ]
  },
  {
   "cell_type": "markdown",
   "id": "678d2f7e-3c7c-44a3-aadf-32698d38b68e",
   "metadata": {},
   "source": [
    "## Question 4\n",
    "#### Age Check: Develop a program that asks for a user's age and determines if they are eligible to vote (age 18 or older)."
   ]
  },
  {
   "cell_type": "code",
   "execution_count": 6,
   "id": "9aee991f-4ac1-432a-bc92-9c6443d881e2",
   "metadata": {},
   "outputs": [
    {
     "name": "stdin",
     "output_type": "stream",
     "text": [
      " 18\n"
     ]
    },
    {
     "data": {
      "text/plain": [
       "'Eligible for vote'"
      ]
     },
     "execution_count": 6,
     "metadata": {},
     "output_type": "execute_result"
    }
   ],
   "source": [
    "def age_check(age):\n",
    "    return 'Eligible for vote' if age>=18 else 'Not Eligible for Vote'\n",
    "age  = abs(int(input()))\n",
    "age_check(age)"
   ]
  },
  {
   "cell_type": "markdown",
   "id": "41317791-8df2-46df-9c16-185cdec15813",
   "metadata": {},
   "source": [
    "## Question 5\n",
    "#### Temperature Check: Write a program that takes a temperature in Celsius and prints whether it is \"Freezing\",\"Cold\", \"Warm\", or \"Hot\" based on predefined ranges."
   ]
  },
  {
   "cell_type": "code",
   "execution_count": 7,
   "id": "74f1793a-8559-449e-b71e-0178ff5b3c11",
   "metadata": {},
   "outputs": [
    {
     "name": "stdin",
     "output_type": "stream",
     "text": [
      "enter temperature in celcius 5\n"
     ]
    },
    {
     "data": {
      "text/plain": [
       "'Cold'"
      ]
     },
     "execution_count": 7,
     "metadata": {},
     "output_type": "execute_result"
    }
   ],
   "source": [
    "def temp_check(temp):\n",
    "    return 'Freezing' if temp<0 else 'Cold' if temp<=15 else 'Warm' if temp <=30 else 'Hot'\n",
    "\n",
    "temp = int(input('enter temperature in celcius'))\n",
    "temp_check(temp)"
   ]
  },
  {
   "cell_type": "markdown",
   "id": "8ac5628e-5ab0-479e-b069-c70c3ec151a3",
   "metadata": {},
   "source": [
    "## Question 6 \n",
    "##### Divisibility Check: Create a program that checks if a number is divisible by 3 and/or 5 and prints appropriate messages."
   ]
  },
  {
   "cell_type": "code",
   "execution_count": 13,
   "id": "008ea330-e459-410e-81f8-4f1e87ce589a",
   "metadata": {},
   "outputs": [
    {
     "name": "stdin",
     "output_type": "stream",
     "text": [
      " 5\n"
     ]
    },
    {
     "data": {
      "text/plain": [
       "'Divisible by 5 only'"
      ]
     },
     "execution_count": 13,
     "metadata": {},
     "output_type": "execute_result"
    }
   ],
   "source": [
    "def check(n):\n",
    "    return 'Divisible by 3 and 5' if n%3==0 and n%5==0 else ' Divisible by 3 only' if n%3==0 else 'Divisible by 5 only' if n%5==0 else 'Not divisible by 3 and 5'\n",
    "num = int(input())\n",
    "check(num)"
   ]
  },
  {
   "cell_type": "markdown",
   "id": "52daa079-9793-4c7f-8753-c0c94d30634c",
   "metadata": {},
   "source": [
    "## Question 7 \n",
    "#### Leap Year Checker: Write a program that determines if a given year is a leap year or not."
   ]
  },
  {
   "cell_type": "code",
   "execution_count": 15,
   "id": "2d8caa1b-cbe8-4cde-99d9-8ef40b3f5915",
   "metadata": {},
   "outputs": [
    {
     "name": "stdout",
     "output_type": "stream",
     "text": [
      "2004 is leap year\n"
     ]
    }
   ],
   "source": [
    "def is_leap(year):\n",
    "    if year%4==0 and (year%100!=0 or year%400==0):\n",
    "        print(f\"{year} is leap year\")\n",
    "    else:\n",
    "        print(f\"{year} is not a leap year\")\n",
    "is_leap(2004)"
   ]
  },
  {
   "cell_type": "markdown",
   "id": "6928c24f-1427-457a-9bfc-f39095edc1b6",
   "metadata": {},
   "source": [
    "## Question 8\n",
    "#### Simple Calculator: Create a basic calculator that takes two numbers and an operator (+, -, *, /) from the user and performs the operation, handling division by zero appropriately."
   ]
  },
  {
   "cell_type": "code",
   "execution_count": 24,
   "id": "b69d6e43-167f-4e96-96c4-dd85f4c2ffa3",
   "metadata": {},
   "outputs": [
    {
     "name": "stdin",
     "output_type": "stream",
     "text": [
      "enter first no. 5\n",
      "enter second no. 7\n",
      "enter the operator (+, -, *, /)  *\n"
     ]
    },
    {
     "data": {
      "text/plain": [
       "35"
      ]
     },
     "execution_count": 24,
     "metadata": {},
     "output_type": "execute_result"
    }
   ],
   "source": [
    "def calculator(n1,n2,oper):\n",
    "    return n1+n2 if oper=='+' else n1-n2 if oper=='-' else n1*n2 if oper=='*' else n1/n2 if oper=='/' else f'cant perform follwoing operaton {oper}'\n",
    "n1 = int(input('enter first no.').strip())\n",
    "n2 = int(input('enter second no.').strip())\n",
    "operation = input('enter the operator (+, -, *, /) ').strip()\n",
    "calculator(n1,n2,operation)"
   ]
  },
  {
   "cell_type": "markdown",
   "id": "701e6055-f683-4174-88c5-1f8cada98b8e",
   "metadata": {},
   "source": [
    "# Medium Level"
   ]
  },
  {
   "cell_type": "markdown",
   "id": "fd18ec8a-d8db-4fa8-9856-7b7a3275ca24",
   "metadata": {},
   "source": [
    "## Question 1\n",
    "#### BMI Calculator: Write a program that calculates the Body Mass Index (BMI) based on user-provided weightand height, then categorizes it as Underweight, Normal weight, Overweight, or Obesity."
   ]
  },
  {
   "cell_type": "code",
   "execution_count": 25,
   "id": "b02efe40-ac0a-444c-9912-151fc7870f5c",
   "metadata": {},
   "outputs": [
    {
     "data": {
      "text/plain": [
       "'Overweight'"
      ]
     },
     "execution_count": 25,
     "metadata": {},
     "output_type": "execute_result"
    }
   ],
   "source": [
    "def bmi_cal(weight,height):\n",
    "    bmi = round(weight/height**2,2)\n",
    "    return 'Underweight' if bmi<18.5 else 'Normal Weight' if bmi <24.9 else 'Overweight' if 29.9 else 'Obisity'\n",
    "bmi_cal(70,.18)"
   ]
  },
  {
   "cell_type": "markdown",
   "id": "c916c897-35c7-4d90-9fe1-634654b27b7f",
   "metadata": {},
   "source": [
    "## Question 2\n",
    "#### Discount Calculator: Create a program that calculates the final price of an item based on its original price and applies discounts based on predefined conditions (e.g., 10% off for prices over $100)."
   ]
  },
  {
   "cell_type": "code",
   "execution_count": 27,
   "id": "55d757aa-f24d-4241-9fab-c7a137c687a9",
   "metadata": {},
   "outputs": [
    {
     "data": {
      "text/plain": [
       "90.9"
      ]
     },
     "execution_count": 27,
     "metadata": {},
     "output_type": "execute_result"
    }
   ],
   "source": [
    "def discount_cal(price):\n",
    "    return round(price*0.9,1) if price>100 else price\n",
    "price = int(input('enter the price'))\n",
    "discount_cal(101)"
   ]
  },
  {
   "cell_type": "markdown",
   "id": "7542492a-00d1-488a-b331-0f3137de4e97",
   "metadata": {},
   "source": [
    "## Question 3\n",
    "#### Grade Classification: Extend the grade evaluation problem to classify grades into categories (e.g., \"Excellent\",\"Good\", \"Average\", \"Poor\") based on score ranges."
   ]
  },
  {
   "cell_type": "code",
   "execution_count": 36,
   "id": "2770b2f6-b101-47f8-acaf-4a41e6218633",
   "metadata": {},
   "outputs": [
    {
     "name": "stdin",
     "output_type": "stream",
     "text": [
      " 90\n"
     ]
    },
    {
     "data": {
      "text/plain": [
       "'Excellent'"
      ]
     },
     "execution_count": 36,
     "metadata": {},
     "output_type": "execute_result"
    }
   ],
   "source": [
    "def score_grade(n):\n",
    "    if 0<=n<=100:\n",
    "        return 'Excellent' if 90<=n<=100 else 'Good' if n>=75 else 'Avearge' if n>=60 else 'Poor'\n",
    "    else:\n",
    "        return 'Invalid Score'\n",
    "score = int(input())\n",
    "score_grade(score)"
   ]
  },
  {
   "cell_type": "markdown",
   "id": "8dfcba57-85ef-4a78-847d-680f6786daef",
   "metadata": {},
   "source": [
    "## Question 4\n",
    "#### Password Strength Checker: Write a program that checks if a password is strong based on conditions such as length, presence of digits, uppercase letters, and special characters."
   ]
  },
  {
   "cell_type": "code",
   "execution_count": 5,
   "id": "37e26e4b-f4e0-40bb-aa08-0c108de4f9bc",
   "metadata": {},
   "outputs": [
    {
     "name": "stdin",
     "output_type": "stream",
     "text": [
      "enter the password Ritik@1223\n"
     ]
    },
    {
     "data": {
      "text/plain": [
       "True"
      ]
     },
     "execution_count": 5,
     "metadata": {},
     "output_type": "execute_result"
    }
   ],
   "source": [
    "def strong_pass(pasw):\n",
    "    import re\n",
    "    if len(password)<8:\n",
    "        return False\n",
    "    if not re.search(r'[a-z]',pasw):\n",
    "        return False\n",
    "    if not re.search(r'[A-Z]',pasw):\n",
    "        return False\n",
    "    if not re.search(r'[0-9]',pasw):\n",
    "        return False\n",
    "    if not re.search(r'[!@#$%^&*(),.?\":{}|<>]',pasw):\n",
    "        return False\n",
    "    if re.search(r'\\s',pasw):\n",
    "        return False\n",
    "    return True\n",
    "password = input('enter the password')\n",
    "strong_pass(password)"
   ]
  },
  {
   "cell_type": "markdown",
   "id": "7bb3e0ec-804a-42a8-a505-81449fa7ee55",
   "metadata": {},
   "source": [
    "## Question 5\n",
    "#### Traffic Light Simulation: Create a program that simulates traffic light behavior where it takes input for the light color (red, yellow, green) and outputs what vehicles should do."
   ]
  },
  {
   "cell_type": "code",
   "execution_count": 40,
   "id": "9a84df4a-affe-4e9d-a1db-087a862662d3",
   "metadata": {},
   "outputs": [
    {
     "name": "stdin",
     "output_type": "stream",
     "text": [
      "enter the color Red\n"
     ]
    },
    {
     "data": {
      "text/plain": [
       "'Stop'"
      ]
     },
     "execution_count": 40,
     "metadata": {},
     "output_type": "execute_result"
    }
   ],
   "source": [
    "def traffic(color):\n",
    "    return 'Go' if color=='green' else 'Caution' if color=='yellow' else 'Stop' if color=='red' else 'Not Valid traffic light color'\n",
    "\n",
    "color = input('enter the color').strip().lower()\n",
    "traffic(color)"
   ]
  },
  {
   "cell_type": "markdown",
   "id": "bc4f8c4c-11b8-4e19-aa6f-5d6313985902",
   "metadata": {},
   "source": [
    "## Questioun 6\n",
    "#### Simple Interest Calculator: Develop a program that calculates simple interest given principal amount, rate of interest, and time period while checking for valid input values."
   ]
  },
  {
   "cell_type": "code",
   "execution_count": 102,
   "id": "a36adf36-f8b2-4225-8082-5f135600c2f8",
   "metadata": {},
   "outputs": [
    {
     "name": "stdin",
     "output_type": "stream",
     "text": [
      "enter the pricipal amount 1000\n",
      "enter the rate of interest ex, 4%,5% 5\n",
      "enter the period in years 1\n"
     ]
    },
    {
     "name": "stdout",
     "output_type": "stream",
     "text": [
      "50.0\n"
     ]
    }
   ],
   "source": [
    "def simple_interest(amount,rate,period):\n",
    "    return round(amount*rate*0.01*period,1)\n",
    "\n",
    "try:\n",
    "    amount = int(input('enter the pricipal amount'))\n",
    "    rate = int(input('enter the rate of interest ex, 4%,5%'))\n",
    "    period = int(input('enter the period in years'))\n",
    "    print(simple_interest(amount,rate,period))\n",
    "except ValueError:\n",
    "    print('Invalid input')\n"
   ]
  },
  {
   "cell_type": "markdown",
   "id": "764ec913-c8fe-413c-aa99-533209bb720b",
   "metadata": {},
   "source": [
    "## Question 7\n",
    "#### Number Range Checker: Write a program that checks if an input number falls within a specified range (e.g., 1 to 100) and prints different messages based on where it falls."
   ]
  },
  {
   "cell_type": "code",
   "execution_count": 97,
   "id": "be11c9a0-cb8a-4c7a-bab7-1993f3d4722c",
   "metadata": {},
   "outputs": [
    {
     "name": "stdin",
     "output_type": "stream",
     "text": [
      "enter a number between 1 to 100 5\n"
     ]
    },
    {
     "data": {
      "text/plain": [
       "'low range'"
      ]
     },
     "execution_count": 97,
     "metadata": {},
     "output_type": "execute_result"
    }
   ],
   "source": [
    "def range_check(num):\n",
    "    return 'Out of range' if (num<1 or num>100) else 'low range' if num<=25 else 'below average' if num<=50 else 'above average' if num<=75 else 'high range'\n",
    "num = int(input('enter a number between 1 to 100'))\n",
    "range_check(num)\n",
    "    "
   ]
  },
  {
   "cell_type": "markdown",
   "id": "041e2bd6-a69e-461d-b68a-1237ebfba359",
   "metadata": {},
   "source": [
    "## Question 8\n",
    "#### Even Number Counter: Create a program that counts how many even numbers are in a list of user-inputted numbers until the user enters -1 to stop."
   ]
  },
  {
   "cell_type": "code",
   "execution_count": 82,
   "id": "256a4ef5-db9a-4458-847d-a52d6779ca9a",
   "metadata": {},
   "outputs": [
    {
     "name": "stdin",
     "output_type": "stream",
     "text": [
      "enter the number with space seperated value df\n"
     ]
    },
    {
     "name": "stdout",
     "output_type": "stream",
     "text": [
      "Invalid input.please enter intergers only\n"
     ]
    },
    {
     "name": "stdin",
     "output_type": "stream",
     "text": [
      "enter the number with space seperated value 45 4\n"
     ]
    },
    {
     "name": "stdout",
     "output_type": "stream",
     "text": [
      "even count :1\n"
     ]
    },
    {
     "name": "stdin",
     "output_type": "stream",
     "text": [
      "enter -1 to stop , any other number to continue 4\n",
      "enter the number with space seperated value 4 5\n"
     ]
    },
    {
     "name": "stdout",
     "output_type": "stream",
     "text": [
      "even count :1\n"
     ]
    },
    {
     "name": "stdin",
     "output_type": "stream",
     "text": [
      "enter -1 to stop , any other number to continue sdf\n"
     ]
    },
    {
     "name": "stdout",
     "output_type": "stream",
     "text": [
      "Invalid input.please enter intergers only\n"
     ]
    },
    {
     "name": "stdin",
     "output_type": "stream",
     "text": [
      "enter the number with space seperated value -1\n"
     ]
    },
    {
     "name": "stdout",
     "output_type": "stream",
     "text": [
      "even count :0\n"
     ]
    },
    {
     "name": "stdin",
     "output_type": "stream",
     "text": [
      "enter -1 to stop , any other number to continue -1\n"
     ]
    }
   ],
   "source": [
    "def count_even(lst):\n",
    "    count = 0\n",
    "    return sum(1 for i in lst if i%2==0)\n",
    "\n",
    "def user():\n",
    "    while True:\n",
    "        try:\n",
    "            lst = list(map(int,input('enter the number with space seperated value').strip().split()))\n",
    "            print(f\"even count :{count_even(lst)}\")\n",
    "            if int(input('enter -1 to stop , any other number to continue'))!=-1:\n",
    "                continue\n",
    "            else:\n",
    "                break\n",
    "        except ValueError:\n",
    "            print('Invalid input.please enter intergers only')\n",
    "user()            "
   ]
  },
  {
   "cell_type": "markdown",
   "id": "8483e795-fc16-4778-a8f6-dc6f8a96d557",
   "metadata": {},
   "source": [
    "## Question 9\n",
    "#### Rock-Paper-Scissors Game: Implement a simple rock-paper-scissors game where the user plays against the computer, determining the winner based on inputs."
   ]
  },
  {
   "cell_type": "code",
   "execution_count": 7,
   "id": "eb40fbc3-3852-439a-b0e8-85b503b164d0",
   "metadata": {},
   "outputs": [
    {
     "name": "stdin",
     "output_type": "stream",
     "text": [
      "enter rock, paper or scissor to play  or Exit to stop the game rock\n"
     ]
    },
    {
     "name": "stdout",
     "output_type": "stream",
     "text": [
      "User:rock,Computer:scissor\n",
      "Rock beats scissor , user wins\n"
     ]
    },
    {
     "name": "stdin",
     "output_type": "stream",
     "text": [
      "enter rock, paper or scissor to play  or Exit to stop the game rock\n"
     ]
    },
    {
     "name": "stdout",
     "output_type": "stream",
     "text": [
      "User:rock,Computer:rock\n",
      "Its Tie\n"
     ]
    },
    {
     "name": "stdin",
     "output_type": "stream",
     "text": [
      "enter rock, paper or scissor to play  or Exit to stop the game rock\n"
     ]
    },
    {
     "name": "stdout",
     "output_type": "stream",
     "text": [
      "User:rock,Computer:scissor\n",
      "Rock beats scissor , user wins\n"
     ]
    },
    {
     "name": "stdin",
     "output_type": "stream",
     "text": [
      "enter rock, paper or scissor to play  or Exit to stop the game rock\n"
     ]
    },
    {
     "name": "stdout",
     "output_type": "stream",
     "text": [
      "User:rock,Computer:rock\n",
      "Its Tie\n"
     ]
    },
    {
     "name": "stdin",
     "output_type": "stream",
     "text": [
      "enter rock, paper or scissor to play  or Exit to stop the game rock\n"
     ]
    },
    {
     "name": "stdout",
     "output_type": "stream",
     "text": [
      "User:rock,Computer:scissor\n",
      "Rock beats scissor , user wins\n"
     ]
    },
    {
     "name": "stdin",
     "output_type": "stream",
     "text": [
      "enter rock, paper or scissor to play  or Exit to stop the game rock\n"
     ]
    },
    {
     "name": "stdout",
     "output_type": "stream",
     "text": [
      "User:rock,Computer:paper\n",
      "Paper beats rock , computer wins\n"
     ]
    },
    {
     "name": "stdin",
     "output_type": "stream",
     "text": [
      "enter rock, paper or scissor to play  or Exit to stop the game rock\n"
     ]
    },
    {
     "name": "stdout",
     "output_type": "stream",
     "text": [
      "User:rock,Computer:rock\n",
      "Its Tie\n"
     ]
    },
    {
     "name": "stdin",
     "output_type": "stream",
     "text": [
      "enter rock, paper or scissor to play  or Exit to stop the game rock\n"
     ]
    },
    {
     "name": "stdout",
     "output_type": "stream",
     "text": [
      "User:rock,Computer:paper\n",
      "Paper beats rock , computer wins\n"
     ]
    },
    {
     "name": "stdin",
     "output_type": "stream",
     "text": [
      "enter rock, paper or scissor to play  or Exit to stop the game rock\n"
     ]
    },
    {
     "name": "stdout",
     "output_type": "stream",
     "text": [
      "User:rock,Computer:paper\n",
      "Paper beats rock , computer wins\n"
     ]
    },
    {
     "name": "stdin",
     "output_type": "stream",
     "text": [
      "enter rock, paper or scissor to play  or Exit to stop the game exit\n"
     ]
    },
    {
     "data": {
      "text/plain": [
       "'Thank for the game!'"
      ]
     },
     "execution_count": 7,
     "metadata": {},
     "output_type": "execute_result"
    }
   ],
   "source": [
    "def game(user):\n",
    "    import random \n",
    "    user = user.lower()\n",
    "    choice = ['rock','paper','scissor']\n",
    "    if user not in choice:\n",
    "        print(f\"Invalid input. choose rock, paper or scissor.\")\n",
    "        return\n",
    "    comp = random.choice(['rock','paper','scissor'])\n",
    "    print(f\"User:{user},Computer:{comp}\")\n",
    "    if comp == user:\n",
    "        print('Its Tie')\n",
    "    elif comp == 'rock' and user == 'paper':\n",
    "        print(f'Paper beats rock , User wins')\n",
    "    elif comp =='rock' and user =='scissor':\n",
    "        print('Rock beats scissor , computer wins')\n",
    "    elif comp =='rock' and user =='scissor':\n",
    "        print('Rock beats scissor , computer wins')\n",
    "    elif comp =='paper' and user =='scissor':\n",
    "        print('Scissor beats paper , user wins')\n",
    "    elif comp =='paper' and user =='rock':\n",
    "        print('Paper beats rock , computer wins')\n",
    "    elif comp =='scissor' and user =='paper':\n",
    "        print('Scissor beats paper , computer wins')\n",
    "    elif comp =='scissor' and user =='rock':\n",
    "        print('Rock beats scissor , user wins')\n",
    "\n",
    "def main():\n",
    "    while True:\n",
    "        user = input('enter rock, paper or scissor to play  or Exit to stop the game')\n",
    "        if user.lower() =='exit':\n",
    "            \n",
    "            break\n",
    "        else:\n",
    "            game(user)\n",
    "    return 'Thank for the game!'\n",
    "\n",
    "main()\n"
   ]
  },
  {
   "cell_type": "markdown",
   "id": "daaaba23-dff7-4ebf-9476-0eebd9d7d148",
   "metadata": {},
   "source": [
    "## Question 10 \n",
    "#### Month Days Checker: Write a program that asks for a month number (1-12) and returns how many days are in that month, considering leap years for February."
   ]
  },
  {
   "cell_type": "code",
   "execution_count": 59,
   "id": "76ce5fd6-9a2e-48a8-ab8f-3189f5cd433a",
   "metadata": {},
   "outputs": [
    {
     "name": "stdin",
     "output_type": "stream",
     "text": [
      "enter the month number(1-12) 6\n",
      "enter the year 2025\n"
     ]
    },
    {
     "name": "stdout",
     "output_type": "stream",
     "text": [
      "Month 6 of 2025 has 30 days\n"
     ]
    }
   ],
   "source": [
    "def is_leap(year):\n",
    "    if year%4==0 and (year%100!=0 or year%400==0):\n",
    "        return True\n",
    "    else:\n",
    "        return False\n",
    "is_leap(2004)\n",
    "def month_day(month,year):\n",
    "    month_days = {\n",
    "        1: 31,\n",
    "        2: 28,  \n",
    "        3: 31,\n",
    "        4: 30,\n",
    "        5: 31,\n",
    "        6: 30,\n",
    "        7: 31,\n",
    "        8: 31,\n",
    "        9: 30,\n",
    "        10: 31,\n",
    "        11: 30,\n",
    "        12: 31\n",
    "    }\n",
    "    if month==2 and is_leap(year):\n",
    "        return 29\n",
    "    else:\n",
    "        return  month_days.get(month,'Invalid month number')\n",
    "\n",
    "    \n",
    "try: \n",
    "    month = int(input('enter the month number(1-12)'))\n",
    "    if 1>month or month>12:\n",
    "        print('Invalid month')\n",
    "    else:\n",
    "        year = int(input('enter the year'))\n",
    "        day = month_day(month,year)\n",
    "        print(f\"Month {month} of {year} has {day} days\")\n",
    "except Exception as e:\n",
    "    print(f\" An Error occured :{e}\")"
   ]
  },
  {
   "cell_type": "markdown",
   "id": "113eeed8-0803-495a-ab13-007421ab4993",
   "metadata": {},
   "source": [
    "## Question 11\n",
    "#### Grade Point Average (GPA) Calculator: Create a program that calculates GPA based on letter grades entered by the user and converts them into grade points using standard values."
   ]
  },
  {
   "cell_type": "code",
   "execution_count": 54,
   "id": "116f29ba-be6f-4332-ab32-e8db613f1ea1",
   "metadata": {},
   "outputs": [
    {
     "name": "stdin",
     "output_type": "stream",
     "text": [
      "enter your grades with space seperated value A B\n"
     ]
    },
    {
     "name": "stdout",
     "output_type": "stream",
     "text": [
      "Your GPA is 3.5\n"
     ]
    }
   ],
   "source": [
    "grade_points = {\n",
    "    \"A\": 4.0, \"A-\": 3.7,\n",
    "    \"B+\": 3.3, \"B\": 3.0, \"B-\": 2.7,\n",
    "    \"C+\": 2.3, \"C\": 2.0, \"C-\": 1.7,\n",
    "    \"D+\": 1.3, \"D\": 1.0, \"F\": 0.0\n",
    "}\n",
    "def gpa(grades):\n",
    "    total_points = 0\n",
    "    total_grade = len(grades)\n",
    "    if total_grade==0:\n",
    "        return 0.0\n",
    "    for grade in grades:\n",
    "        if grade not in grade_points.keys():\n",
    "            print('entered Invalid Grade')\n",
    "        else:\n",
    "            total_points+=grade_points[grade]\n",
    "    gpa = round(total_points/total_grade,1)\n",
    "    return gpa\n",
    "grades = input('enter your grades with space seperated value').split()\n",
    "gpa = gpa(grades)\n",
    "print(f\"Your GPA is {gpa}\")\n"
   ]
  },
  {
   "cell_type": "markdown",
   "id": "134891bd-dfca-4bc8-a941-dfb9eaf459c9",
   "metadata": {},
   "source": [
    "## Question 12\n",
    "#### Simple Voting System: Develop a voting system where users can vote for one of three candidates; ensure each user can only vote once by checking against previous votes stored in a list."
   ]
  },
  {
   "cell_type": "code",
   "execution_count": 52,
   "id": "d60fd4ad-bc97-4744-ab0e-35b2206aa098",
   "metadata": {},
   "outputs": [
    {
     "name": "stdin",
     "output_type": "stream",
     "text": [
      "enter your name or exit to stip voting exit\n"
     ]
    },
    {
     "name": "stdout",
     "output_type": "stream",
     "text": [
      "\n",
      " Voting Result:\n",
      "Candidate A : 0 votes\n",
      "Candidate B : 0 votes\n",
      "Candidate C : 0 votes\n"
     ]
    }
   ],
   "source": [
    "def vote():\n",
    "    voted_names = []\n",
    "    candidate= {'A':0,'B':0,'C':0}\n",
    "    voting = True\n",
    "    while voting:\n",
    "        name = input('enter your name or exit to stip voting').strip().lower()\n",
    "        if name=='exit':\n",
    "            break\n",
    "        vote = input(\"enter candidate name ('A','B','C')\").strip().upper()\n",
    "        if vote not in candidate.keys():\n",
    "            print('Not a valid candidate')\n",
    "        elif name in voted_names:\n",
    "            print('You have alread voted')\n",
    "        else:\n",
    "            candidate[vote]+=1\n",
    "            voted_names.append(name)\n",
    "            print('vote recorded')\n",
    "    print('\\n Voting Result:')\n",
    "    for candidate,count in candidate.items():\n",
    "        print(f\"Candidate {candidate} : {count} votes\")\n",
    "if __name__=='__main__':\n",
    "    vote()\n",
    "            \n",
    "            "
   ]
  }
 ],
 "metadata": {
  "kernelspec": {
   "display_name": "Python 3 (ipykernel)",
   "language": "python",
   "name": "python3"
  },
  "language_info": {
   "codemirror_mode": {
    "name": "ipython",
    "version": 3
   },
   "file_extension": ".py",
   "mimetype": "text/x-python",
   "name": "python",
   "nbconvert_exporter": "python",
   "pygments_lexer": "ipython3",
   "version": "3.13.2"
  }
 },
 "nbformat": 4,
 "nbformat_minor": 5
}

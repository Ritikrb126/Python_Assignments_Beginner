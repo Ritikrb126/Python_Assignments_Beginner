{
 "cells": [
  {
   "cell_type": "markdown",
   "id": "fe400cf1-420d-4ad5-a2cf-55f097caa870",
   "metadata": {},
   "source": [
    "## Question 1:\n",
    "#### Create a variable age and assign it the value 25 . Then print the value of age along with its data type using the type() function."
   ]
  },
  {
   "cell_type": "code",
   "execution_count": 1,
   "id": "3da3f676-9df5-4608-8d93-c78cde9e145a",
   "metadata": {},
   "outputs": [
    {
     "name": "stdout",
     "output_type": "stream",
     "text": [
      "age:25,<class 'int'>\n"
     ]
    }
   ],
   "source": [
    "age = 25\n",
    "print(f\"age:{age},{type(age)}\")"
   ]
  },
  {
   "cell_type": "markdown",
   "id": "30dbbff3-9672-4346-833a-f0db3688856f",
   "metadata": {},
   "source": [
    "## Question 2:\n",
    "#### Assign the number 12.5 to a variable price . Print both the variable and its data type. \n",
    "#### Then assign the value 12 to the same variable and print its data type again. What do you observe?"
   ]
  },
  {
   "cell_type": "code",
   "execution_count": 2,
   "id": "b587b28c-1050-45a9-8d3c-68826664b3d3",
   "metadata": {},
   "outputs": [
    {
     "name": "stdout",
     "output_type": "stream",
     "text": [
      "Price:12.5,<class 'float'>\n",
      "Price:12,<class 'int'>\n"
     ]
    }
   ],
   "source": [
    "price = 12.5\n",
    "print(f\"Price:{price},{type(price)}\") # return a float data type \n",
    "price = 12 \n",
    "print(f\"Price:{price},{type(price)}\") # return a interger data type "
   ]
  },
  {
   "cell_type": "markdown",
   "id": "39706eb0-d276-411e-b6af-2e853c7d71c8",
   "metadata": {},
   "source": [
    "## Question 3:\n",
    "#### Create a variable is_raining and set it to True . Print the value of the variablealong with its type. Then set is_raining to False and print the new value and type."
   ]
  },
  {
   "cell_type": "code",
   "execution_count": 4,
   "id": "3fddcfff-2162-494d-b3d7-7320ba0903de",
   "metadata": {},
   "outputs": [
    {
     "name": "stdout",
     "output_type": "stream",
     "text": [
      "Is_raining :True,<class 'bool'>\n",
      "Is_raining :False,<class 'bool'>\n"
     ]
    }
   ],
   "source": [
    "is_raining = True\n",
    "print(f\"Is_raining :{is_raining},{type(is_raining)}\")\n",
    "is_raining = False\n",
    "print(f\"Is_raining :{is_raining},{type(is_raining)}\")"
   ]
  },
  {
   "cell_type": "markdown",
   "id": "dd186fd7-cad1-482b-841b-ef68f4b34336",
   "metadata": {},
   "source": [
    "## Question 4:\n",
    "##### Create a variable my_name and store your full name in it as a string. Then print the value of my_name using single quotes ' ."
   ]
  },
  {
   "cell_type": "code",
   "execution_count": 8,
   "id": "018b4f5f-0395-4691-95ec-611f289881ba",
   "metadata": {},
   "outputs": [
    {
     "name": "stdout",
     "output_type": "stream",
     "text": [
      "My name is Virat Kohli\n"
     ]
    }
   ],
   "source": [
    "my_name = 'Virat Kohli'\n",
    "print('My name is',my_name)"
   ]
  },
  {
   "cell_type": "markdown",
   "id": "61ee864c-731d-406e-9ee6-8cdcd410feb8",
   "metadata": {},
   "source": [
    "## Question 5:\n",
    "#### Write a Python program that asks the user for their name and age using the input() function. Store the inputs in variables and print a sentence like\n",
    "#### \"Hello, [Name]! You are [Age] years old.\" Ensure you cast the age to an integer."
   ]
  },
  {
   "cell_type": "code",
   "execution_count": 10,
   "id": "3ec8972f-1d65-46dd-9760-260ad2742e34",
   "metadata": {},
   "outputs": [
    {
     "name": "stdin",
     "output_type": "stream",
     "text": [
      "enter your name virat\n",
      "enter your age 43\n"
     ]
    },
    {
     "name": "stdout",
     "output_type": "stream",
     "text": [
      "Hello, virat! You are 43 years old.\n"
     ]
    }
   ],
   "source": [
    "name = input('enter your name')\n",
    "age = int(input('enter your age'))\n",
    "print(f\"Hello, {name}! You are {age} years old.\")\n",
    "          "
   ]
  },
  {
   "cell_type": "markdown",
   "id": "a2beb9ae-72eb-47af-85e4-bf05e1c1fa09",
   "metadata": {},
   "source": [
    "## Question 6:\n",
    "#### Create two variables x and y and assign them the values 10 and 3.5 ,respectively. Print their values and types. Then, create a new variable\n",
    "#### sum_xy and store the sum of x and y . Print the result and its type."
   ]
  },
  {
   "cell_type": "code",
   "execution_count": 13,
   "id": "38df406c-8032-4e8e-9790-c879ad3624b5",
   "metadata": {},
   "outputs": [
    {
     "name": "stdout",
     "output_type": "stream",
     "text": [
      " x is 10 and its data type is <class 'int'>\n",
      "y is 3.5 and its data type is <class 'int'>\n",
      "Sum of x and y is 13.5 and its data type <class 'float'>\n"
     ]
    }
   ],
   "source": [
    "x = 10\n",
    "y = 3.5\n",
    "print(f\" x is {x} and its data type is {type(x)}\\ny is {y} and its data type is {type(x)}\")\n",
    "sum_xy = x+y\n",
    "print(f\"Sum of x and y is {sum_xy} and its data type {type(sum_xy)}\")"
   ]
  },
  {
   "cell_type": "markdown",
   "id": "bcc3e868-e2b6-4243-b355-7987ea66b751",
   "metadata": {},
   "source": [
    "## Question 7\n",
    "#### Using the type() function, check and print the data type of the following:\n",
    "- 45.0\n",
    "- \"hello\"\n",
    "- None\n",
    "- False"
   ]
  },
  {
   "cell_type": "code",
   "execution_count": 14,
   "id": "ffb95dc1-a38c-4677-ba8f-479cf9dc79f6",
   "metadata": {},
   "outputs": [
    {
     "name": "stdout",
     "output_type": "stream",
     "text": [
      "<class 'float'>\n",
      "<class 'str'>\n",
      "<class 'NoneType'>\n",
      "<class 'bool'>\n"
     ]
    }
   ],
   "source": [
    "print(type(45.0))\n",
    "print(type(\"hello\"))\n",
    "print(type(None))\n",
    "print(type(False))"
   ]
  },
  {
   "cell_type": "markdown",
   "id": "5aa860e9-e204-412f-a677-46f71df339b3",
   "metadata": {},
   "source": [
    "## Question 8\n",
    "#### Write a Python program to print three strings \"apple\" , \"banana\" , and \"cherry\"on the same line, separated by a space. Then modify the program to separate the strings using a comma , instead of a space."
   ]
  },
  {
   "cell_type": "code",
   "execution_count": 19,
   "id": "bd82c406-93f8-4c09-9c86-3de959aae4ae",
   "metadata": {},
   "outputs": [
    {
     "name": "stdout",
     "output_type": "stream",
     "text": [
      "apple banana cherry\n",
      "apple,banana,cherry\n"
     ]
    }
   ],
   "source": [
    "print( \"apple\",\"banana\",\"cherry\") \n",
    "print( \"apple\",\"banana\",\"cherry\",sep=\",\")"
   ]
  },
  {
   "cell_type": "markdown",
   "id": "38aac3a4-4b15-4870-8084-7aa1cb1d52e6",
   "metadata": {},
   "source": [
    "## Question 9\n",
    "#### Create a variable big_number and assign it a very large integer value (e.g.,987654321987654321 ). Print the value and its type. What do you notice about the size of the number?"
   ]
  },
  {
   "cell_type": "code",
   "execution_count": 17,
   "id": "1afdeb5a-9957-406c-b6b8-4d98c984413b",
   "metadata": {},
   "outputs": [
    {
     "name": "stdout",
     "output_type": "stream",
     "text": [
      "987654321987654321 , <class 'int'>\n"
     ]
    }
   ],
   "source": [
    "big_number = 987654321987654321\n",
    "print(f\"{big_number} , {type(big_number)}\")\n",
    "#  lenght of number doesnt matter "
   ]
  },
  {
   "cell_type": "markdown",
   "id": "5dc237c0-4e64-487f-ad57-3e3275043c28",
   "metadata": {},
   "source": [
    "## Question 10\n",
    "#### Write a Python program that prints the result of multiplying two floats (e.g.,2.5 and 3.7 ). Then check and print the data type of the result."
   ]
  },
  {
   "cell_type": "code",
   "execution_count": 22,
   "id": "2d08065d-4566-464c-81f5-8989dbd1b790",
   "metadata": {},
   "outputs": [
    {
     "name": "stdout",
     "output_type": "stream",
     "text": [
      " x is 2.5 and its data type is <class 'float'>\n",
      "y is 3.7 and its data type is <class 'float'>\n",
      "Sum of x and y is 6.2 and its data type <class 'float'>\n"
     ]
    }
   ],
   "source": [
    "x = 2.5\n",
    "y = 3.7\n",
    "print(f\" x is {x} and its data type is {type(x)}\\ny is {y} and its data type is {type(x)}\")\n",
    "sum_xy = x+y\n",
    "print(f\"Sum of x and y is {sum_xy} and its data type {type(sum_xy)}\")"
   ]
  },
  {
   "cell_type": "code",
   "execution_count": null,
   "id": "7cd68644-b24d-4159-a111-f12f014c8fbe",
   "metadata": {},
   "outputs": [],
   "source": []
  }
 ],
 "metadata": {
  "kernelspec": {
   "display_name": "Python 3 (ipykernel)",
   "language": "python",
   "name": "python3"
  },
  "language_info": {
   "codemirror_mode": {
    "name": "ipython",
    "version": 3
   },
   "file_extension": ".py",
   "mimetype": "text/x-python",
   "name": "python",
   "nbconvert_exporter": "python",
   "pygments_lexer": "ipython3",
   "version": "3.13.2"
  }
 },
 "nbformat": 4,
 "nbformat_minor": 5
}

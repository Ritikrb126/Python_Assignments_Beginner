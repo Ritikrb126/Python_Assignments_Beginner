{
 "cells": [
  {
   "cell_type": "markdown",
   "id": "0e8510f3-6b7f-474a-9b30-d29d8eef4893",
   "metadata": {},
   "source": [
    "# Lists, Strings, Dictionaries, and Nested Structures "
   ]
  },
  {
   "cell_type": "markdown",
   "id": "92f19189-d384-4e5f-9ec2-5eafb7b0ff75",
   "metadata": {},
   "source": [
    "## 1. Year List Creation\n",
    "#### Create a list years_list that includes the year of your birth and the next five years (total 6 years)."
   ]
  },
  {
   "cell_type": "code",
   "execution_count": 13,
   "id": "db3ab49a-e2d1-4f1e-bf0b-7bdcb8171eea",
   "metadata": {},
   "outputs": [
    {
     "name": "stdin",
     "output_type": "stream",
     "text": [
      "enter your birth year 2000\n"
     ]
    },
    {
     "name": "stdout",
     "output_type": "stream",
     "text": [
      "[2000, 2001, 2002, 2003, 2004, 2005]\n"
     ]
    }
   ],
   "source": [
    "birth_year = int(input('enter your birth year'))\n",
    "def get_next_5_year():\n",
    "    return [birth_year+i for i in range(6)]\n",
    "years_list = get_next_5_year()\n",
    "print(years_list)"
   ]
  },
  {
   "cell_type": "markdown",
   "id": "01218fc4-ec7e-4951-ae2f-ea1fb9c31a4d",
   "metadata": {},
   "source": [
    "## 2. Third Birthday Year\n",
    "#### Print the year in years_list when you were 3 years old.\n",
    "#### Hint: Remember, your 0th year is the first item."
   ]
  },
  {
   "cell_type": "code",
   "execution_count": 14,
   "id": "50b7c994-57b2-46cf-b44e-506fb4ebaf09",
   "metadata": {},
   "outputs": [
    {
     "name": "stdout",
     "output_type": "stream",
     "text": [
      "Year I turned 3 years old:2003\n"
     ]
    }
   ],
   "source": [
    "print(f\"Year I turned 3 years old:{years_list[3]}\")"
   ]
  },
  {
   "cell_type": "markdown",
   "id": "c68e46b1-1e06-42e0-a981-fd16e2d4a4b0",
   "metadata": {},
   "source": [
    "## 3. Oldest Year\n",
    "#### Which year in years_list represents the most recent (your oldest age)?"
   ]
  },
  {
   "cell_type": "code",
   "execution_count": 16,
   "id": "33d5a98b-fdfc-4ac0-b90a-1814f28d86e1",
   "metadata": {},
   "outputs": [
    {
     "name": "stdout",
     "output_type": "stream",
     "text": [
      "Oldest age: 2005\n"
     ]
    }
   ],
   "source": [
    "print(f\"Oldest age: {years_list[-1]}\")"
   ]
  },
  {
   "cell_type": "markdown",
   "id": "b40adce9-e43b-465a-9fb0-509b62bdc8f4",
   "metadata": {},
   "source": [
    "## 4. List of Things\n",
    "#### Create a list called things with the following items:\n",
    "#### [\"mozzarella\", \"cinderella\", \"salmonella\"]"
   ]
  },
  {
   "cell_type": "code",
   "execution_count": 28,
   "id": "bc690838-0cd7-46b1-9347-c8b3ec499461",
   "metadata": {},
   "outputs": [
    {
     "name": "stdout",
     "output_type": "stream",
     "text": [
      "['mozzarella', 'cinderella', 'salmonella']\n"
     ]
    }
   ],
   "source": [
    "things = [\"mozzarella\", \"cinderella\", \"salmonella\"]\n",
    "print(things)"
   ]
  },
  {
   "cell_type": "markdown",
   "id": "97332012-18a1-4a2e-a860-77be63b67d01",
   "metadata": {},
   "source": [
    "## 5. Capitalization Check\n",
    "#### Capitalize the item that refers to a person in the things list.\n",
    "#### Print the list. Did the original list change?"
   ]
  },
  {
   "cell_type": "code",
   "execution_count": 31,
   "id": "e2e877c9-4913-4301-a655-d55e6ef38efa",
   "metadata": {},
   "outputs": [
    {
     "name": "stdout",
     "output_type": "stream",
     "text": [
      "Cinderella\n",
      "['mozzarella', 'cinderella', 'salmonella']\n"
     ]
    }
   ],
   "source": [
    "print(things[1].capitalize())\n",
    "print(things)\n",
    "# No the list did not change "
   ]
  },
  {
   "cell_type": "markdown",
   "id": "48f3be4d-ae63-4123-b3c0-47ae9c79b5f8",
   "metadata": {},
   "source": [
    "## 6. Surprise List\n",
    "#### Create a list called surprise_list with these values:\n",
    "#### [\"Groucho\", \"Chico\", \"Harpo\"]"
   ]
  },
  {
   "cell_type": "code",
   "execution_count": 32,
   "id": "e7b9f824-1725-48a6-a71e-416547aa3946",
   "metadata": {},
   "outputs": [],
   "source": [
    "surprise_list = [\"Groucho\", \"Chico\", \"Harpo\"]"
   ]
  },
  {
   "cell_type": "markdown",
   "id": "cc7f8996-3d9b-46e4-bbf2-1ee13021cf70",
   "metadata": {},
   "source": [
    "## 7. String Transformation\n",
    "#### Take the last item in surprise_list:\n",
    "- Lowercase it\n",
    "- Reverse it\n",
    "- Capitalize the result\n",
    "#### Then print it."
   ]
  },
  {
   "cell_type": "code",
   "execution_count": 33,
   "id": "abae0783-c462-4da9-b51b-68271be518e4",
   "metadata": {},
   "outputs": [
    {
     "name": "stdout",
     "output_type": "stream",
     "text": [
      "harpo\n",
      "opraH\n",
      "Harpo\n"
     ]
    }
   ],
   "source": [
    "print(surprise_list[-1].lower())\n",
    "print(surprise_list[-1][::-1])\n",
    "print(surprise_list[-1].capitalize())"
   ]
  },
  {
   "cell_type": "markdown",
   "id": "fd7cfdfd-5ef4-40a1-b455-8403fb8be22f",
   "metadata": {},
   "source": [
    "## 8. English-to-French Dictionary\n",
    "#### Create a dictionary e2f that maps these:\n",
    "- dog → chien\n",
    "- cat → chat\n",
    "- walrus → morse\n",
    "#### Print the dictionary."
   ]
  },
  {
   "cell_type": "code",
   "execution_count": 34,
   "id": "41149fe3-a5d8-498e-b8a0-c6c8369914b4",
   "metadata": {},
   "outputs": [
    {
     "name": "stdout",
     "output_type": "stream",
     "text": [
      "{'dog': 'chein', 'cat': 'chat', 'walrus': 'morse'}\n"
     ]
    }
   ],
   "source": [
    "e2f = {'dog':'chein','cat':'chat','walrus':'morse'}\n",
    "print(e2f)"
   ]
  },
  {
   "cell_type": "markdown",
   "id": "26137c18-1f82-4202-a7c8-292bceea3657",
   "metadata": {},
   "source": [
    "## 9. Translate 'walrus' to French\n",
    "#### Use e2f to print the French word for “walrus.”"
   ]
  },
  {
   "cell_type": "code",
   "execution_count": 35,
   "id": "be1163af-77c2-4fd8-8f3f-bfe93f9ad17c",
   "metadata": {},
   "outputs": [
    {
     "name": "stdout",
     "output_type": "stream",
     "text": [
      "french word for 'walrus' : morse\n"
     ]
    }
   ],
   "source": [
    "print(f\"french word for 'walrus' : {e2f['walrus']}\")"
   ]
  },
  {
   "cell_type": "markdown",
   "id": "826a0368-d575-4e40-aaf4-17e39531a5eb",
   "metadata": {},
   "source": [
    "## 10. Reverse Dictionary\n",
    "#### Create a reverse dictionary f2e from e2f using the .items() method.\n",
    "#### Print f2e."
   ]
  },
  {
   "cell_type": "code",
   "execution_count": 37,
   "id": "52ca0231-fd1e-42a8-9405-545b324fa7b3",
   "metadata": {},
   "outputs": [
    {
     "name": "stdout",
     "output_type": "stream",
     "text": [
      "{'chein': 'dog', 'chat': 'cat', 'morse': 'walrus'}\n"
     ]
    }
   ],
   "source": [
    "f2e = {}\n",
    "for x,y in e2f.items():\n",
    "    f2e[y] = x\n",
    "print(f2e)"
   ]
  },
  {
   "cell_type": "markdown",
   "id": "312b568a-300b-4ceb-95b1-124b4c1521c7",
   "metadata": {},
   "source": [
    "## 11. Translate 'chien' to English\n",
    "#### Use f2e to print the English word for “chien.”"
   ]
  },
  {
   "cell_type": "code",
   "execution_count": 40,
   "id": "ab38e03a-2cdb-478c-965f-e6e4285a4e9e",
   "metadata": {},
   "outputs": [
    {
     "name": "stdout",
     "output_type": "stream",
     "text": [
      " English word for 'chien' : dog\n"
     ]
    }
   ],
   "source": [
    "print(f\" English word for 'chien' : {f2e['chein']}\")"
   ]
  },
  {
   "cell_type": "markdown",
   "id": "d07f710e-f24b-4028-af24-c96e45180c5f",
   "metadata": {},
   "source": [
    "## 12. Get All English Words\n",
    "#### Print the set of all English words (the keys from e2f)."
   ]
  },
  {
   "cell_type": "code",
   "execution_count": 46,
   "id": "d336af66-8f49-442b-8022-b26198267b2e",
   "metadata": {},
   "outputs": [
    {
     "name": "stdout",
     "output_type": "stream",
     "text": [
      "dog\n",
      "cat\n",
      "walrus\n"
     ]
    }
   ],
   "source": [
    "for i in e2f.keys():\n",
    "    print(i)"
   ]
  },
  {
   "cell_type": "markdown",
   "id": "b5347a98-b12a-4516-b6a9-56c02b1b2cdc",
   "metadata": {},
   "source": [
    "## 13. Create a Nested Dictionary (life)\n",
    "#### Create a dictionary life structured like this:\\\n",
    "{\n",
    "'animals': {\n",
    "'cats': ['Henri', 'Grumpy', 'Lucy'],\n",
    "'octopi': {},\n",
    "'emus': {}\n",
    "},\n",
    "'plants': {},\n",
    "'other': {}\n",
    "}"
   ]
  },
  {
   "cell_type": "code",
   "execution_count": 47,
   "id": "3d1d04a4-9f00-4671-957f-96906ec35936",
   "metadata": {},
   "outputs": [],
   "source": [
    "life = { 'animals': { 'cats': ['Henri', 'Grumpy', 'Lucy'], 'octopi': {}, 'emus': {} }, 'plants': {}, 'other': {} }"
   ]
  },
  {
   "cell_type": "markdown",
   "id": "00da155a-9580-4158-8f14-90ecc6f2c703",
   "metadata": {},
   "source": [
    "## 14. Top-Level Keys\n",
    "#### Print the top-level keys of life."
   ]
  },
  {
   "cell_type": "code",
   "execution_count": 48,
   "id": "d898e8cf-5997-4699-a1dd-13bbf26b422b",
   "metadata": {},
   "outputs": [
    {
     "name": "stdout",
     "output_type": "stream",
     "text": [
      "animals\n",
      "plants\n",
      "other\n"
     ]
    }
   ],
   "source": [
    "for i in life.keys():\n",
    "    print(i)"
   ]
  },
  {
   "cell_type": "markdown",
   "id": "a241d57f-d283-4a12-83a2-b0bc7d7cb6b4",
   "metadata": {},
   "source": [
    "## 15. Animal Categories\n",
    "#### Print the keys inside life['animals']."
   ]
  },
  {
   "cell_type": "code",
   "execution_count": 49,
   "id": "b30c625d-2e89-4f87-9978-6e000e7d10c0",
   "metadata": {},
   "outputs": [
    {
     "name": "stdout",
     "output_type": "stream",
     "text": [
      "cats\n",
      "octopi\n",
      "emus\n"
     ]
    }
   ],
   "source": [
    "for i in life['animals'].keys():\n",
    "    print(i)"
   ]
  },
  {
   "cell_type": "markdown",
   "id": "cfc68dbc-6c08-4186-82f6-1fc751e4bd43",
   "metadata": {},
   "source": [
    "## 16. List of Cat Names\n",
    "#### Print the list of cat names stored in life['animals']['cats']."
   ]
  },
  {
   "cell_type": "code",
   "execution_count": 51,
   "id": "9dd51564-f56c-4804-8fc8-4cbeea6b2894",
   "metadata": {},
   "outputs": [
    {
     "name": "stdout",
     "output_type": "stream",
     "text": [
      "Henri\n",
      "Grumpy\n",
      "Lucy\n"
     ]
    }
   ],
   "source": [
    "for i in life['animals']['cats']:\n",
    "    print(i)"
   ]
  },
  {
   "cell_type": "code",
   "execution_count": null,
   "id": "a87fecb2-54ef-4b57-9ce7-21560e2350a1",
   "metadata": {},
   "outputs": [],
   "source": []
  }
 ],
 "metadata": {
  "kernelspec": {
   "display_name": "Python 3 (ipykernel)",
   "language": "python",
   "name": "python3"
  },
  "language_info": {
   "codemirror_mode": {
    "name": "ipython",
    "version": 3
   },
   "file_extension": ".py",
   "mimetype": "text/x-python",
   "name": "python",
   "nbconvert_exporter": "python",
   "pygments_lexer": "ipython3",
   "version": "3.13.2"
  }
 },
 "nbformat": 4,
 "nbformat_minor": 5
}

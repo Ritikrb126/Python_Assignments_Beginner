{
 "cells": [
  {
   "cell_type": "markdown",
   "id": "da23c961-1671-40ea-8d6a-65c7f28fb87e",
   "metadata": {},
   "source": [
    "# Question 1\n",
    "####  Write a Python program that checks if a number entered by the user is even or odd. Print \"Even\" if the number is even and \"Odd\" if it is odd."
   ]
  },
  {
   "cell_type": "code",
   "execution_count": 7,
   "id": "b7db117e-dcd7-4144-9cd6-0df555d7261b",
   "metadata": {},
   "outputs": [
    {
     "name": "stdin",
     "output_type": "stream",
     "text": [
      " 1\n"
     ]
    },
    {
     "name": "stdout",
     "output_type": "stream",
     "text": [
      "Odd\n"
     ]
    }
   ],
   "source": [
    "def check_odd_even(n):\n",
    "    return 'Even' if n%2==0 else 'Odd'\n",
    "num = int(input())\n",
    "print(check_odd_even(num))"
   ]
  },
  {
   "cell_type": "markdown",
   "id": "12aa2f19-1197-4d2a-86a2-05ec66821e05",
   "metadata": {},
   "source": [
    "# Question 2\n",
    "#### Create a program that prompts the user for their age and prints whether they are a child (0-12), teenager (13-19), or adult (20 and above)."
   ]
  },
  {
   "cell_type": "code",
   "execution_count": 15,
   "id": "d72d8836-e17e-4605-99ad-6d0a99e17b60",
   "metadata": {},
   "outputs": [
    {
     "name": "stdin",
     "output_type": "stream",
     "text": [
      " -15\n"
     ]
    },
    {
     "data": {
      "text/plain": [
       "'teenage'"
      ]
     },
     "execution_count": 15,
     "metadata": {},
     "output_type": "execute_result"
    }
   ],
   "source": [
    "def user(age):\n",
    "    return 'child' if 0<age<=12 else 'teenage' if age<=19 else 'adult'\n",
    "age = abs(int(input()))\n",
    "user(age)"
   ]
  },
  {
   "cell_type": "markdown",
   "id": "41d45ed1-2651-4e1a-955b-12afcf62ca6a",
   "metadata": {},
   "source": [
    "# Question 3\n",
    "#### Write a program that takes two numbers as input from the user and prints which number is larger. If both numbers are equal, print \"Both numbers are equal.\""
   ]
  },
  {
   "cell_type": "code",
   "execution_count": 22,
   "id": "3a30e288-eca4-4db2-b0ee-b1b6283a96ed",
   "metadata": {},
   "outputs": [
    {
     "name": "stdin",
     "output_type": "stream",
     "text": [
      "enter the two number seperated by black space ( ex 10 15) 41 52\n"
     ]
    },
    {
     "name": "stdout",
     "output_type": "stream",
     "text": [
      "52\n"
     ]
    }
   ],
   "source": [
    "def check(n1,n2):\n",
    "    return n1 if n1>n2 else n2 if n2>n1 else 'Both numbers are equal'\n",
    "n1,n2 = list(map(int,(input('enter the two number seperated by black space ( ex 10 15)').strip().split())))    \n",
    "print(check(n1,n2))"
   ]
  },
  {
   "cell_type": "markdown",
   "id": "afb0727c-33c2-4a6d-a39b-3769d8dce564",
   "metadata": {},
   "source": [
    "# Question 4\n",
    "#### Create a program that checks if a user-entered password matches the string \"securePassword\". Print \"Access Granted\" if it matches, otherwise print \"Access Denied.\""
   ]
  },
  {
   "cell_type": "code",
   "execution_count": 23,
   "id": "64926912-a461-43de-8d3c-cca8c263239a",
   "metadata": {},
   "outputs": [
    {
     "name": "stdin",
     "output_type": "stream",
     "text": [
      " sfsd\n"
     ]
    },
    {
     "data": {
      "text/plain": [
       "'Access Denied'"
      ]
     },
     "execution_count": 23,
     "metadata": {},
     "output_type": "execute_result"
    }
   ],
   "source": [
    "def check_pass(password):\n",
    "    return 'Access Granted' if password == 'securePassword' else 'Access Denied'\n",
    "user_pass = input()\n",
    "check_pass(user_pass)"
   ]
  },
  {
   "cell_type": "markdown",
   "id": "e51c1bc5-9001-45bb-8171-0a606e803ef7",
   "metadata": {},
   "source": [
    "# Question 5\n",
    "#### Write a program that takes a score from the user (0-100) prints the corresponding grade:\n",
    "- A for 90-100\n",
    "- B for 80-89\n",
    "- C for 70-79\n",
    "- D for 60-69\n",
    "- F for below 60"
   ]
  },
  {
   "cell_type": "code",
   "execution_count": 35,
   "id": "f9726769-e229-4443-b3d4-bcf845d9ec8f",
   "metadata": {},
   "outputs": [
    {
     "name": "stdin",
     "output_type": "stream",
     "text": [
      " -5\n"
     ]
    },
    {
     "data": {
      "text/plain": [
       "'Invalid Score'"
      ]
     },
     "execution_count": 35,
     "metadata": {},
     "output_type": "execute_result"
    }
   ],
   "source": [
    "def score_grade(n):\n",
    "    if 0<=n<=100:\n",
    "        return 'A' if 90<=n<=100 else 'B' if n>=80 else 'C' if n>=70 else 'D' if n>=60 else 'F'\n",
    "    else:\n",
    "        return 'Invalid Score'\n",
    "score = int(input())\n",
    "score_grade(score)"
   ]
  },
  {
   "cell_type": "markdown",
   "id": "31eafe9c-6196-402f-ac28-7a2eb7952fa0",
   "metadata": {},
   "source": [
    "# Question 6\n",
    "#### Create a program that asks the user for a number and checks if it is positive, negative, or zero. Print the corresponding message"
   ]
  },
  {
   "cell_type": "code",
   "execution_count": 42,
   "id": "08f860f4-d728-47fa-9224-31e1fbff0483",
   "metadata": {},
   "outputs": [
    {
     "name": "stdin",
     "output_type": "stream",
     "text": [
      " 5\n"
     ]
    },
    {
     "data": {
      "text/plain": [
       "'positive'"
      ]
     },
     "execution_count": 42,
     "metadata": {},
     "output_type": "execute_result"
    }
   ],
   "source": [
    "def check(n):\n",
    "    return 'positive' if n>0 else 'negative' if n<0 else 'zero'\n",
    "num = int(input())\n",
    "check(num)"
   ]
  },
  {
   "cell_type": "markdown",
   "id": "ee93f804-fac6-4d5c-b8cd-92483bc68d00",
   "metadata": {},
   "source": [
    "# Question 7\n",
    "#### Write a program that takes three numbers from the user and determines the largest of the three. Print the largest number."
   ]
  },
  {
   "cell_type": "code",
   "execution_count": 43,
   "id": "a5c976b5-e294-439c-a36c-95c43a07eaa5",
   "metadata": {},
   "outputs": [
    {
     "name": "stdin",
     "output_type": "stream",
     "text": [
      "enter the three number seperated by black space ( ex 10 15 24) 14 52 4\n"
     ]
    },
    {
     "data": {
      "text/plain": [
       "52"
      ]
     },
     "execution_count": 43,
     "metadata": {},
     "output_type": "execute_result"
    }
   ],
   "source": [
    "def check(n1,n2,n3):\n",
    "    return n1 if n2<n1>n2 else n2 if n1<n2>n3 else n3\n",
    "n1,n2,n3 =  list(map(int,(input('enter the three number seperated by black space ( ex 10 15 24)').strip().split())))\n",
    "check(n1,n2,n3)"
   ]
  },
  {
   "cell_type": "markdown",
   "id": "28916b96-964a-40c5-9f4b-0391fe850c00",
   "metadata": {},
   "source": [
    "# Question 8\n",
    "#### Create a program that checks if a user-entered character is a vowel (a, e, i, o, u) or a consonant. Print the corresponding message."
   ]
  },
  {
   "cell_type": "code",
   "execution_count": 47,
   "id": "f2bee005-f91d-48de-82ec-a9a6e7258edb",
   "metadata": {},
   "outputs": [
    {
     "name": "stdin",
     "output_type": "stream",
     "text": [
      " i\n"
     ]
    },
    {
     "data": {
      "text/plain": [
       "'i is consontant'"
      ]
     },
     "execution_count": 47,
     "metadata": {},
     "output_type": "execute_result"
    }
   ],
   "source": [
    "def check(char):\n",
    "    return f'{char} is consontant' if char in ['a','e','i','o','u'] else f'{char} is a vowel'\n",
    "char = input().strip()\n",
    "check(char)"
   ]
  },
  {
   "cell_type": "markdown",
   "id": "d518c41d-6ed5-45f3-a8d3-5027302174c1",
   "metadata": {},
   "source": [
    "# Question 9\n",
    "#### Write a program that checks if a given year is a leap year. A year is a leap year if it is divisible by 4, except for years that are divisible by 100 but not divisible by 400"
   ]
  },
  {
   "cell_type": "code",
   "execution_count": 70,
   "id": "4a2e8374-6503-4599-a2f0-2e5b45a34246",
   "metadata": {},
   "outputs": [
    {
     "name": "stdout",
     "output_type": "stream",
     "text": [
      "leap year\n"
     ]
    }
   ],
   "source": [
    "def is_leap(year):\n",
    "    if year%4==0 and (year%100==0 or year%400!=0):\n",
    "            print('leap year')\n",
    "    else:\n",
    "        print('not a leap year')\n",
    "is_leap(2020)"
   ]
  },
  {
   "cell_type": "markdown",
   "id": "c062f041-b7f5-4afd-8343-5a206adb7254",
   "metadata": {},
   "source": [
    "# Question 10\n",
    "#### Create a program that prompts the user for a temperature in Celsius and converts it to Fahrenheit. If the converted temperature is greater than 100°F, print \"It's boiling!\" Otherwise, print \"It's not boiling yet.\""
   ]
  },
  {
   "cell_type": "code",
   "execution_count": 78,
   "id": "4d8cfe07-36a3-4279-b274-f16f10316c12",
   "metadata": {},
   "outputs": [
    {
     "name": "stdin",
     "output_type": "stream",
     "text": [
      " 54\n"
     ]
    },
    {
     "data": {
      "text/plain": [
       "\"it's boiling\""
      ]
     },
     "execution_count": 78,
     "metadata": {},
     "output_type": "execute_result"
    }
   ],
   "source": [
    "def cel_Fahr(temp):\n",
    "    temp = (temp*9/5)+32\n",
    "    return 'it\\'s boiling' if temp>100 else 'it\\'s not boiling yet'\n",
    "celcius = int(input())\n",
    "cel_Fahr(celcius)"
   ]
  },
  {
   "cell_type": "code",
   "execution_count": null,
   "id": "269a0c16-1a22-44b5-92c9-3835b431220c",
   "metadata": {},
   "outputs": [],
   "source": []
  }
 ],
 "metadata": {
  "kernelspec": {
   "display_name": "Python 3 (ipykernel)",
   "language": "python",
   "name": "python3"
  },
  "language_info": {
   "codemirror_mode": {
    "name": "ipython",
    "version": 3
   },
   "file_extension": ".py",
   "mimetype": "text/x-python",
   "name": "python",
   "nbconvert_exporter": "python",
   "pygments_lexer": "ipython3",
   "version": "3.13.2"
  }
 },
 "nbformat": 4,
 "nbformat_minor": 5
}

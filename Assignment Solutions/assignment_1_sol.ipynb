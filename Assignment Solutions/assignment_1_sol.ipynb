{
 "cells": [
  {
   "cell_type": "markdown",
   "id": "dede61e2-0591-4229-b202-dba1153b611d",
   "metadata": {},
   "source": [
    "## Question 1\n",
    "#### Write a Python program to print your name and favourite colour on two separate lines"
   ]
  },
  {
   "cell_type": "code",
   "execution_count": 11,
   "id": "174f883b-3a5a-48e1-a2dc-ec87a1af51d8",
   "metadata": {},
   "outputs": [
    {
     "name": "stdin",
     "output_type": "stream",
     "text": [
      "enter your name\n",
      " ritik\n",
      "enter your favourite colour\n",
      " white\n"
     ]
    },
    {
     "name": "stdout",
     "output_type": "stream",
     "text": [
      "Hello Ritik,\n",
      "Your favourite colour is White\n"
     ]
    }
   ],
   "source": [
    "name = input('enter your name\\n')\n",
    "fav_color = input('enter your favourite colour\\n')\n",
    "print(f\"Hello {name.capitalize()},\\nYour favourite colour is {fav_color.capitalize()}\")"
   ]
  },
  {
   "cell_type": "markdown",
   "id": "5c402f02-ee97-4e45-891f-25119b48821e",
   "metadata": {},
   "source": [
    "## Question 2\n",
    "#### Write a Python program that prints the result of adding 7 and 8."
   ]
  },
  {
   "cell_type": "code",
   "execution_count": 13,
   "id": "5c3173cb-fed1-48d8-bba6-0be9a26ce2a9",
   "metadata": {},
   "outputs": [
    {
     "name": "stdout",
     "output_type": "stream",
     "text": [
      "sum is 15\n"
     ]
    }
   ],
   "source": [
    "result = 7+8\n",
    "print(f\"sum is {result}\")"
   ]
  },
  {
   "cell_type": "markdown",
   "id": "027b2c4b-9b8e-446f-a84a-3d2d9b4bdeb8",
   "metadata": {},
   "source": [
    "## Question 3\n",
    "####  Use the print function to display the following text exactly as it is:\n",
    "#### Python is fun!\n",
    "#### Let's learn together."
   ]
  },
  {
   "cell_type": "code",
   "execution_count": 14,
   "id": "9018fcac-6ece-492d-b6bb-02f54632f8b5",
   "metadata": {},
   "outputs": [
    {
     "name": "stdout",
     "output_type": "stream",
     "text": [
      "Python is fun!\n",
      "Let's learn together\n"
     ]
    }
   ],
   "source": [
    "print('Python is fun!\\nLet\\'s learn together')"
   ]
  },
  {
   "cell_type": "markdown",
   "id": "adc86683-8522-413b-b94a-622f053c447e",
   "metadata": {},
   "source": [
    "## Question 4\n",
    "#### Write a Python program to calculate and print the result of multiplying 6 by 9."
   ]
  },
  {
   "cell_type": "code",
   "execution_count": 15,
   "id": "a6ea6906-2157-49f0-bde8-a64e265127ae",
   "metadata": {},
   "outputs": [
    {
     "name": "stdout",
     "output_type": "stream",
     "text": [
      "Multiplication is 54\n"
     ]
    }
   ],
   "source": [
    "result = 6*9\n",
    "print(f\"Multiplication is {result}\")"
   ]
  },
  {
   "cell_type": "markdown",
   "id": "bee9196b-7a9f-4cdc-b9d0-57ab25f51265",
   "metadata": {},
   "source": [
    "## Question 5\n",
    "#### Write a Python program that prints the result of adding 5 + 5 and multiplying 2 * 3 in a single line of code."
   ]
  },
  {
   "cell_type": "code",
   "execution_count": 17,
   "id": "dfa034ca-d4d8-4af6-b9db-b636afa01005",
   "metadata": {},
   "outputs": [
    {
     "name": "stdout",
     "output_type": "stream",
     "text": [
      "Adding 5 + 5 : 10\n",
      "Multiplying 2 X 3: 6\n"
     ]
    }
   ],
   "source": [
    "print(f\"Adding 5 + 5 : {5+5}\\nMultiplying 2 X 3: {2*3}\")"
   ]
  },
  {
   "cell_type": "markdown",
   "id": "7534d724-e1df-4f9d-91e8-5348ed106fbe",
   "metadata": {},
   "source": [
    "## Question 6\n",
    "#### Take the name A as input from the user and print \"Hello A\", where A is the name in input."
   ]
  },
  {
   "cell_type": "code",
   "execution_count": 19,
   "id": "c6a0196c-48a5-4433-b064-475bffda2412",
   "metadata": {},
   "outputs": [
    {
     "name": "stdin",
     "output_type": "stream",
     "text": [
      "what is your name rtik\n"
     ]
    },
    {
     "name": "stdout",
     "output_type": "stream",
     "text": [
      "Hello Rtik\n"
     ]
    }
   ],
   "source": [
    "A = input('what is your name')\n",
    "print(f'Hello {A.capitalize()}')"
   ]
  },
  {
   "cell_type": "markdown",
   "id": "91975a0a-9ad6-466e-85d3-a6e02910ae1a",
   "metadata": {},
   "source": [
    "## Question 7\n",
    "#### You have x rupees in your savings. You google pay y rupees, print your bank balance"
   ]
  },
  {
   "cell_type": "code",
   "execution_count": 23,
   "id": "7e80de59-8685-466b-add1-e36038b4812d",
   "metadata": {},
   "outputs": [
    {
     "name": "stdin",
     "output_type": "stream",
     "text": [
      "enter the balance amount 101\n",
      "enter gpay amount 102\n"
     ]
    },
    {
     "name": "stdout",
     "output_type": "stream",
     "text": [
      "Insufficient Balance,Your current Balance is Rs. 101\n"
     ]
    }
   ],
   "source": [
    "saving = int(input('enter the balance amount'))\n",
    "gpay = int(input('enter gpay amount'))\n",
    "if gpay<=saving:\n",
    "    print(f\" Your current Balance is Rs. {saving-gpay}\")\n",
    "else:\n",
    "    print(f\"Insufficient Balance,Your current Balance is Rs. {saving}\")"
   ]
  },
  {
   "cell_type": "markdown",
   "id": "472479a9-36ef-4e56-88ec-9271191a83d1",
   "metadata": {},
   "source": [
    "## Question 8\n",
    "#### Print the first five letters of the English alphabet i.e. A, B, C, D and E. one below each other"
   ]
  },
  {
   "cell_type": "code",
   "execution_count": 24,
   "id": "90d98638-6457-4f98-aeed-65abacc5bad3",
   "metadata": {},
   "outputs": [
    {
     "name": "stdout",
     "output_type": "stream",
     "text": [
      "A\n",
      "B\n",
      "C\n",
      "D\n",
      "E\n"
     ]
    }
   ],
   "source": [
    "print('A\\nB\\nC\\nD\\nE')"
   ]
  },
  {
   "cell_type": "markdown",
   "id": "1443d548-de64-4006-b966-3cbe4ba35aaf",
   "metadata": {},
   "source": [
    "## Question 9\n",
    "#### Take two names A and B as input from the user, and print \"A says Hi to B\" Without quotations), where A and B are the names in input."
   ]
  },
  {
   "cell_type": "code",
   "execution_count": 27,
   "id": "bd47daa2-19fc-48cd-8a96-b52b14485f4e",
   "metadata": {},
   "outputs": [
    {
     "name": "stdin",
     "output_type": "stream",
     "text": [
      "enter your name Rit\n",
      "enter your friend name Na\n"
     ]
    },
    {
     "name": "stdout",
     "output_type": "stream",
     "text": [
      "Rit says Hi to Na\n"
     ]
    }
   ],
   "source": [
    "A = input('enter your name')\n",
    "B = input('enter your friend name')\n",
    "print(f\"{A.capitalize()} says Hi to {B.capitalize()}\")"
   ]
  }
 ],
 "metadata": {
  "kernelspec": {
   "display_name": "Python 3 (ipykernel)",
   "language": "python",
   "name": "python3"
  },
  "language_info": {
   "codemirror_mode": {
    "name": "ipython",
    "version": 3
   },
   "file_extension": ".py",
   "mimetype": "text/x-python",
   "name": "python",
   "nbconvert_exporter": "python",
   "pygments_lexer": "ipython3",
   "version": "3.13.2"
  }
 },
 "nbformat": 4,
 "nbformat_minor": 5
}
